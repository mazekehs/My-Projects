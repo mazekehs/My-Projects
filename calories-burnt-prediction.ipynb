{
 "cells": [
  {
   "cell_type": "code",
   "execution_count": 1,
   "id": "e62eb1a2",
   "metadata": {
    "_cell_guid": "b1076dfc-b9ad-4769-8c92-a6c4dae69d19",
    "_uuid": "8f2839f25d086af736a60e9eeb907d3b93b6e0e5",
    "execution": {
     "iopub.execute_input": "2023-12-22T15:39:51.140337Z",
     "iopub.status.busy": "2023-12-22T15:39:51.139679Z",
     "iopub.status.idle": "2023-12-22T15:39:53.588778Z",
     "shell.execute_reply": "2023-12-22T15:39:53.587401Z"
    },
    "papermill": {
     "duration": 2.470855,
     "end_time": "2023-12-22T15:39:53.592075",
     "exception": false,
     "start_time": "2023-12-22T15:39:51.121220",
     "status": "completed"
    },
    "tags": []
   },
   "outputs": [],
   "source": [
    "import numpy as np\n",
    "import pandas as pd\n",
    "import matplotlib.pyplot as plt\n",
    "import seaborn as sns\n",
    "from sklearn.model_selection import train_test_split\n",
    "from xgboost import XGBRegressor\n",
    "from sklearn import metrics"
   ]
  },
  {
   "cell_type": "markdown",
   "id": "0d7da758",
   "metadata": {
    "papermill": {
     "duration": 0.015484,
     "end_time": "2023-12-22T15:39:53.623561",
     "exception": false,
     "start_time": "2023-12-22T15:39:53.608077",
     "status": "completed"
    },
    "tags": []
   },
   "source": [
    "Data Collection and Preprocessing"
   ]
  },
  {
   "cell_type": "code",
   "execution_count": 2,
   "id": "825eac76",
   "metadata": {
    "execution": {
     "iopub.execute_input": "2023-12-22T15:39:53.657491Z",
     "iopub.status.busy": "2023-12-22T15:39:53.656750Z",
     "iopub.status.idle": "2023-12-22T15:39:53.695403Z",
     "shell.execute_reply": "2023-12-22T15:39:53.693968Z"
    },
    "papermill": {
     "duration": 0.059455,
     "end_time": "2023-12-22T15:39:53.698531",
     "exception": false,
     "start_time": "2023-12-22T15:39:53.639076",
     "status": "completed"
    },
    "tags": []
   },
   "outputs": [],
   "source": [
    "#Loading the data from csv file to pandas DataFrame\n",
    "calories=pd.read_csv('/kaggle/input/fmendesdat263xdemos/calories.csv')\n"
   ]
  },
  {
   "cell_type": "code",
   "execution_count": 3,
   "id": "ddb4a33f",
   "metadata": {
    "execution": {
     "iopub.execute_input": "2023-12-22T15:39:53.733091Z",
     "iopub.status.busy": "2023-12-22T15:39:53.732154Z",
     "iopub.status.idle": "2023-12-22T15:39:53.739094Z",
     "shell.execute_reply": "2023-12-22T15:39:53.737915Z"
    },
    "papermill": {
     "duration": 0.027571,
     "end_time": "2023-12-22T15:39:53.741986",
     "exception": false,
     "start_time": "2023-12-22T15:39:53.714415",
     "status": "completed"
    },
    "tags": []
   },
   "outputs": [
    {
     "name": "stdout",
     "output_type": "stream",
     "text": [
      "(15000, 2)\n"
     ]
    }
   ],
   "source": [
    "print(calories.shape)"
   ]
  },
  {
   "cell_type": "code",
   "execution_count": 4,
   "id": "9b24925b",
   "metadata": {
    "execution": {
     "iopub.execute_input": "2023-12-22T15:39:53.776685Z",
     "iopub.status.busy": "2023-12-22T15:39:53.776210Z",
     "iopub.status.idle": "2023-12-22T15:39:53.800568Z",
     "shell.execute_reply": "2023-12-22T15:39:53.799638Z"
    },
    "papermill": {
     "duration": 0.045404,
     "end_time": "2023-12-22T15:39:53.803300",
     "exception": false,
     "start_time": "2023-12-22T15:39:53.757896",
     "status": "completed"
    },
    "tags": []
   },
   "outputs": [
    {
     "data": {
      "text/html": [
       "<div>\n",
       "<style scoped>\n",
       "    .dataframe tbody tr th:only-of-type {\n",
       "        vertical-align: middle;\n",
       "    }\n",
       "\n",
       "    .dataframe tbody tr th {\n",
       "        vertical-align: top;\n",
       "    }\n",
       "\n",
       "    .dataframe thead th {\n",
       "        text-align: right;\n",
       "    }\n",
       "</style>\n",
       "<table border=\"1\" class=\"dataframe\">\n",
       "  <thead>\n",
       "    <tr style=\"text-align: right;\">\n",
       "      <th></th>\n",
       "      <th>User_ID</th>\n",
       "      <th>Calories</th>\n",
       "    </tr>\n",
       "  </thead>\n",
       "  <tbody>\n",
       "    <tr>\n",
       "      <th>0</th>\n",
       "      <td>14733363</td>\n",
       "      <td>231.0</td>\n",
       "    </tr>\n",
       "    <tr>\n",
       "      <th>1</th>\n",
       "      <td>14861698</td>\n",
       "      <td>66.0</td>\n",
       "    </tr>\n",
       "    <tr>\n",
       "      <th>2</th>\n",
       "      <td>11179863</td>\n",
       "      <td>26.0</td>\n",
       "    </tr>\n",
       "    <tr>\n",
       "      <th>3</th>\n",
       "      <td>16180408</td>\n",
       "      <td>71.0</td>\n",
       "    </tr>\n",
       "    <tr>\n",
       "      <th>4</th>\n",
       "      <td>17771927</td>\n",
       "      <td>35.0</td>\n",
       "    </tr>\n",
       "  </tbody>\n",
       "</table>\n",
       "</div>"
      ],
      "text/plain": [
       "    User_ID  Calories\n",
       "0  14733363     231.0\n",
       "1  14861698      66.0\n",
       "2  11179863      26.0\n",
       "3  16180408      71.0\n",
       "4  17771927      35.0"
      ]
     },
     "execution_count": 4,
     "metadata": {},
     "output_type": "execute_result"
    }
   ],
   "source": [
    "calories.head()"
   ]
  },
  {
   "cell_type": "code",
   "execution_count": 5,
   "id": "e76877f5",
   "metadata": {
    "execution": {
     "iopub.execute_input": "2023-12-22T15:39:53.838980Z",
     "iopub.status.busy": "2023-12-22T15:39:53.837779Z",
     "iopub.status.idle": "2023-12-22T15:39:53.884386Z",
     "shell.execute_reply": "2023-12-22T15:39:53.883347Z"
    },
    "papermill": {
     "duration": 0.067075,
     "end_time": "2023-12-22T15:39:53.887222",
     "exception": false,
     "start_time": "2023-12-22T15:39:53.820147",
     "status": "completed"
    },
    "tags": []
   },
   "outputs": [],
   "source": [
    "excercise=pd.read_csv('/kaggle/input/fmendesdat263xdemos/exercise.csv')"
   ]
  },
  {
   "cell_type": "code",
   "execution_count": 6,
   "id": "6aac6241",
   "metadata": {
    "execution": {
     "iopub.execute_input": "2023-12-22T15:39:53.922181Z",
     "iopub.status.busy": "2023-12-22T15:39:53.921359Z",
     "iopub.status.idle": "2023-12-22T15:39:53.927570Z",
     "shell.execute_reply": "2023-12-22T15:39:53.926759Z"
    },
    "papermill": {
     "duration": 0.026196,
     "end_time": "2023-12-22T15:39:53.929678",
     "exception": false,
     "start_time": "2023-12-22T15:39:53.903482",
     "status": "completed"
    },
    "tags": []
   },
   "outputs": [
    {
     "data": {
      "text/plain": [
       "(15000, 8)"
      ]
     },
     "execution_count": 6,
     "metadata": {},
     "output_type": "execute_result"
    }
   ],
   "source": [
    "excercise.shape"
   ]
  },
  {
   "cell_type": "code",
   "execution_count": 7,
   "id": "73b85390",
   "metadata": {
    "execution": {
     "iopub.execute_input": "2023-12-22T15:39:53.964797Z",
     "iopub.status.busy": "2023-12-22T15:39:53.963940Z",
     "iopub.status.idle": "2023-12-22T15:39:53.982927Z",
     "shell.execute_reply": "2023-12-22T15:39:53.981607Z"
    },
    "papermill": {
     "duration": 0.039606,
     "end_time": "2023-12-22T15:39:53.985271",
     "exception": false,
     "start_time": "2023-12-22T15:39:53.945665",
     "status": "completed"
    },
    "tags": []
   },
   "outputs": [
    {
     "data": {
      "text/html": [
       "<div>\n",
       "<style scoped>\n",
       "    .dataframe tbody tr th:only-of-type {\n",
       "        vertical-align: middle;\n",
       "    }\n",
       "\n",
       "    .dataframe tbody tr th {\n",
       "        vertical-align: top;\n",
       "    }\n",
       "\n",
       "    .dataframe thead th {\n",
       "        text-align: right;\n",
       "    }\n",
       "</style>\n",
       "<table border=\"1\" class=\"dataframe\">\n",
       "  <thead>\n",
       "    <tr style=\"text-align: right;\">\n",
       "      <th></th>\n",
       "      <th>User_ID</th>\n",
       "      <th>Gender</th>\n",
       "      <th>Age</th>\n",
       "      <th>Height</th>\n",
       "      <th>Weight</th>\n",
       "      <th>Duration</th>\n",
       "      <th>Heart_Rate</th>\n",
       "      <th>Body_Temp</th>\n",
       "    </tr>\n",
       "  </thead>\n",
       "  <tbody>\n",
       "    <tr>\n",
       "      <th>0</th>\n",
       "      <td>14733363</td>\n",
       "      <td>male</td>\n",
       "      <td>68</td>\n",
       "      <td>190.0</td>\n",
       "      <td>94.0</td>\n",
       "      <td>29.0</td>\n",
       "      <td>105.0</td>\n",
       "      <td>40.8</td>\n",
       "    </tr>\n",
       "    <tr>\n",
       "      <th>1</th>\n",
       "      <td>14861698</td>\n",
       "      <td>female</td>\n",
       "      <td>20</td>\n",
       "      <td>166.0</td>\n",
       "      <td>60.0</td>\n",
       "      <td>14.0</td>\n",
       "      <td>94.0</td>\n",
       "      <td>40.3</td>\n",
       "    </tr>\n",
       "    <tr>\n",
       "      <th>2</th>\n",
       "      <td>11179863</td>\n",
       "      <td>male</td>\n",
       "      <td>69</td>\n",
       "      <td>179.0</td>\n",
       "      <td>79.0</td>\n",
       "      <td>5.0</td>\n",
       "      <td>88.0</td>\n",
       "      <td>38.7</td>\n",
       "    </tr>\n",
       "    <tr>\n",
       "      <th>3</th>\n",
       "      <td>16180408</td>\n",
       "      <td>female</td>\n",
       "      <td>34</td>\n",
       "      <td>179.0</td>\n",
       "      <td>71.0</td>\n",
       "      <td>13.0</td>\n",
       "      <td>100.0</td>\n",
       "      <td>40.5</td>\n",
       "    </tr>\n",
       "    <tr>\n",
       "      <th>4</th>\n",
       "      <td>17771927</td>\n",
       "      <td>female</td>\n",
       "      <td>27</td>\n",
       "      <td>154.0</td>\n",
       "      <td>58.0</td>\n",
       "      <td>10.0</td>\n",
       "      <td>81.0</td>\n",
       "      <td>39.8</td>\n",
       "    </tr>\n",
       "  </tbody>\n",
       "</table>\n",
       "</div>"
      ],
      "text/plain": [
       "    User_ID  Gender  Age  Height  Weight  Duration  Heart_Rate  Body_Temp\n",
       "0  14733363    male   68   190.0    94.0      29.0       105.0       40.8\n",
       "1  14861698  female   20   166.0    60.0      14.0        94.0       40.3\n",
       "2  11179863    male   69   179.0    79.0       5.0        88.0       38.7\n",
       "3  16180408  female   34   179.0    71.0      13.0       100.0       40.5\n",
       "4  17771927  female   27   154.0    58.0      10.0        81.0       39.8"
      ]
     },
     "execution_count": 7,
     "metadata": {},
     "output_type": "execute_result"
    }
   ],
   "source": [
    "excercise.head()"
   ]
  },
  {
   "cell_type": "markdown",
   "id": "44958042",
   "metadata": {
    "papermill": {
     "duration": 0.015847,
     "end_time": "2023-12-22T15:39:54.017231",
     "exception": false,
     "start_time": "2023-12-22T15:39:54.001384",
     "status": "completed"
    },
    "tags": []
   },
   "source": [
    "# Combining the two data frames"
   ]
  },
  {
   "cell_type": "code",
   "execution_count": 8,
   "id": "d9253f56",
   "metadata": {
    "execution": {
     "iopub.execute_input": "2023-12-22T15:39:54.052621Z",
     "iopub.status.busy": "2023-12-22T15:39:54.051446Z",
     "iopub.status.idle": "2023-12-22T15:39:54.061237Z",
     "shell.execute_reply": "2023-12-22T15:39:54.060014Z"
    },
    "papermill": {
     "duration": 0.030192,
     "end_time": "2023-12-22T15:39:54.063674",
     "exception": false,
     "start_time": "2023-12-22T15:39:54.033482",
     "status": "completed"
    },
    "tags": []
   },
   "outputs": [],
   "source": [
    "calories_data=pd.concat([excercise,calories['Calories']],axis=1)"
   ]
  },
  {
   "cell_type": "code",
   "execution_count": 9,
   "id": "858fe161",
   "metadata": {
    "execution": {
     "iopub.execute_input": "2023-12-22T15:39:54.098253Z",
     "iopub.status.busy": "2023-12-22T15:39:54.097853Z",
     "iopub.status.idle": "2023-12-22T15:39:54.118170Z",
     "shell.execute_reply": "2023-12-22T15:39:54.117222Z"
    },
    "papermill": {
     "duration": 0.041761,
     "end_time": "2023-12-22T15:39:54.121431",
     "exception": false,
     "start_time": "2023-12-22T15:39:54.079670",
     "status": "completed"
    },
    "tags": []
   },
   "outputs": [
    {
     "data": {
      "text/html": [
       "<div>\n",
       "<style scoped>\n",
       "    .dataframe tbody tr th:only-of-type {\n",
       "        vertical-align: middle;\n",
       "    }\n",
       "\n",
       "    .dataframe tbody tr th {\n",
       "        vertical-align: top;\n",
       "    }\n",
       "\n",
       "    .dataframe thead th {\n",
       "        text-align: right;\n",
       "    }\n",
       "</style>\n",
       "<table border=\"1\" class=\"dataframe\">\n",
       "  <thead>\n",
       "    <tr style=\"text-align: right;\">\n",
       "      <th></th>\n",
       "      <th>User_ID</th>\n",
       "      <th>Gender</th>\n",
       "      <th>Age</th>\n",
       "      <th>Height</th>\n",
       "      <th>Weight</th>\n",
       "      <th>Duration</th>\n",
       "      <th>Heart_Rate</th>\n",
       "      <th>Body_Temp</th>\n",
       "      <th>Calories</th>\n",
       "    </tr>\n",
       "  </thead>\n",
       "  <tbody>\n",
       "    <tr>\n",
       "      <th>0</th>\n",
       "      <td>14733363</td>\n",
       "      <td>male</td>\n",
       "      <td>68</td>\n",
       "      <td>190.0</td>\n",
       "      <td>94.0</td>\n",
       "      <td>29.0</td>\n",
       "      <td>105.0</td>\n",
       "      <td>40.8</td>\n",
       "      <td>231.0</td>\n",
       "    </tr>\n",
       "    <tr>\n",
       "      <th>1</th>\n",
       "      <td>14861698</td>\n",
       "      <td>female</td>\n",
       "      <td>20</td>\n",
       "      <td>166.0</td>\n",
       "      <td>60.0</td>\n",
       "      <td>14.0</td>\n",
       "      <td>94.0</td>\n",
       "      <td>40.3</td>\n",
       "      <td>66.0</td>\n",
       "    </tr>\n",
       "    <tr>\n",
       "      <th>2</th>\n",
       "      <td>11179863</td>\n",
       "      <td>male</td>\n",
       "      <td>69</td>\n",
       "      <td>179.0</td>\n",
       "      <td>79.0</td>\n",
       "      <td>5.0</td>\n",
       "      <td>88.0</td>\n",
       "      <td>38.7</td>\n",
       "      <td>26.0</td>\n",
       "    </tr>\n",
       "    <tr>\n",
       "      <th>3</th>\n",
       "      <td>16180408</td>\n",
       "      <td>female</td>\n",
       "      <td>34</td>\n",
       "      <td>179.0</td>\n",
       "      <td>71.0</td>\n",
       "      <td>13.0</td>\n",
       "      <td>100.0</td>\n",
       "      <td>40.5</td>\n",
       "      <td>71.0</td>\n",
       "    </tr>\n",
       "    <tr>\n",
       "      <th>4</th>\n",
       "      <td>17771927</td>\n",
       "      <td>female</td>\n",
       "      <td>27</td>\n",
       "      <td>154.0</td>\n",
       "      <td>58.0</td>\n",
       "      <td>10.0</td>\n",
       "      <td>81.0</td>\n",
       "      <td>39.8</td>\n",
       "      <td>35.0</td>\n",
       "    </tr>\n",
       "  </tbody>\n",
       "</table>\n",
       "</div>"
      ],
      "text/plain": [
       "    User_ID  Gender  Age  Height  Weight  Duration  Heart_Rate  Body_Temp  \\\n",
       "0  14733363    male   68   190.0    94.0      29.0       105.0       40.8   \n",
       "1  14861698  female   20   166.0    60.0      14.0        94.0       40.3   \n",
       "2  11179863    male   69   179.0    79.0       5.0        88.0       38.7   \n",
       "3  16180408  female   34   179.0    71.0      13.0       100.0       40.5   \n",
       "4  17771927  female   27   154.0    58.0      10.0        81.0       39.8   \n",
       "\n",
       "   Calories  \n",
       "0     231.0  \n",
       "1      66.0  \n",
       "2      26.0  \n",
       "3      71.0  \n",
       "4      35.0  "
      ]
     },
     "execution_count": 9,
     "metadata": {},
     "output_type": "execute_result"
    }
   ],
   "source": [
    "calories_data.head()"
   ]
  },
  {
   "cell_type": "code",
   "execution_count": 10,
   "id": "52b28d9a",
   "metadata": {
    "execution": {
     "iopub.execute_input": "2023-12-22T15:39:54.218684Z",
     "iopub.status.busy": "2023-12-22T15:39:54.218188Z",
     "iopub.status.idle": "2023-12-22T15:39:54.225987Z",
     "shell.execute_reply": "2023-12-22T15:39:54.224860Z"
    },
    "papermill": {
     "duration": 0.08987,
     "end_time": "2023-12-22T15:39:54.228545",
     "exception": false,
     "start_time": "2023-12-22T15:39:54.138675",
     "status": "completed"
    },
    "tags": []
   },
   "outputs": [
    {
     "data": {
      "text/plain": [
       "(15000, 9)"
      ]
     },
     "execution_count": 10,
     "metadata": {},
     "output_type": "execute_result"
    }
   ],
   "source": [
    "calories_data.shape"
   ]
  },
  {
   "cell_type": "code",
   "execution_count": 11,
   "id": "9c44fa59",
   "metadata": {
    "execution": {
     "iopub.execute_input": "2023-12-22T15:39:54.265449Z",
     "iopub.status.busy": "2023-12-22T15:39:54.264940Z",
     "iopub.status.idle": "2023-12-22T15:39:54.298219Z",
     "shell.execute_reply": "2023-12-22T15:39:54.296866Z"
    },
    "papermill": {
     "duration": 0.054767,
     "end_time": "2023-12-22T15:39:54.300951",
     "exception": false,
     "start_time": "2023-12-22T15:39:54.246184",
     "status": "completed"
    },
    "tags": []
   },
   "outputs": [
    {
     "name": "stdout",
     "output_type": "stream",
     "text": [
      "<class 'pandas.core.frame.DataFrame'>\n",
      "RangeIndex: 15000 entries, 0 to 14999\n",
      "Data columns (total 9 columns):\n",
      " #   Column      Non-Null Count  Dtype  \n",
      "---  ------      --------------  -----  \n",
      " 0   User_ID     15000 non-null  int64  \n",
      " 1   Gender      15000 non-null  object \n",
      " 2   Age         15000 non-null  int64  \n",
      " 3   Height      15000 non-null  float64\n",
      " 4   Weight      15000 non-null  float64\n",
      " 5   Duration    15000 non-null  float64\n",
      " 6   Heart_Rate  15000 non-null  float64\n",
      " 7   Body_Temp   15000 non-null  float64\n",
      " 8   Calories    15000 non-null  float64\n",
      "dtypes: float64(6), int64(2), object(1)\n",
      "memory usage: 1.0+ MB\n"
     ]
    }
   ],
   "source": [
    "#More information about data\n",
    "calories_data.info()"
   ]
  },
  {
   "cell_type": "code",
   "execution_count": 12,
   "id": "49b590e6",
   "metadata": {
    "execution": {
     "iopub.execute_input": "2023-12-22T15:39:54.338086Z",
     "iopub.status.busy": "2023-12-22T15:39:54.336978Z",
     "iopub.status.idle": "2023-12-22T15:39:54.349970Z",
     "shell.execute_reply": "2023-12-22T15:39:54.348804Z"
    },
    "papermill": {
     "duration": 0.034073,
     "end_time": "2023-12-22T15:39:54.352370",
     "exception": false,
     "start_time": "2023-12-22T15:39:54.318297",
     "status": "completed"
    },
    "tags": []
   },
   "outputs": [
    {
     "data": {
      "text/plain": [
       "User_ID       0\n",
       "Gender        0\n",
       "Age           0\n",
       "Height        0\n",
       "Weight        0\n",
       "Duration      0\n",
       "Heart_Rate    0\n",
       "Body_Temp     0\n",
       "Calories      0\n",
       "dtype: int64"
      ]
     },
     "execution_count": 12,
     "metadata": {},
     "output_type": "execute_result"
    }
   ],
   "source": [
    "#Checking for missing values\n",
    "\n",
    "calories_data.isnull().sum()"
   ]
  },
  {
   "cell_type": "code",
   "execution_count": 13,
   "id": "9c713b47",
   "metadata": {
    "execution": {
     "iopub.execute_input": "2023-12-22T15:39:54.388571Z",
     "iopub.status.busy": "2023-12-22T15:39:54.388075Z",
     "iopub.status.idle": "2023-12-22T15:39:54.437161Z",
     "shell.execute_reply": "2023-12-22T15:39:54.435846Z"
    },
    "papermill": {
     "duration": 0.070616,
     "end_time": "2023-12-22T15:39:54.439978",
     "exception": false,
     "start_time": "2023-12-22T15:39:54.369362",
     "status": "completed"
    },
    "tags": []
   },
   "outputs": [
    {
     "data": {
      "text/html": [
       "<div>\n",
       "<style scoped>\n",
       "    .dataframe tbody tr th:only-of-type {\n",
       "        vertical-align: middle;\n",
       "    }\n",
       "\n",
       "    .dataframe tbody tr th {\n",
       "        vertical-align: top;\n",
       "    }\n",
       "\n",
       "    .dataframe thead th {\n",
       "        text-align: right;\n",
       "    }\n",
       "</style>\n",
       "<table border=\"1\" class=\"dataframe\">\n",
       "  <thead>\n",
       "    <tr style=\"text-align: right;\">\n",
       "      <th></th>\n",
       "      <th>User_ID</th>\n",
       "      <th>Age</th>\n",
       "      <th>Height</th>\n",
       "      <th>Weight</th>\n",
       "      <th>Duration</th>\n",
       "      <th>Heart_Rate</th>\n",
       "      <th>Body_Temp</th>\n",
       "      <th>Calories</th>\n",
       "    </tr>\n",
       "  </thead>\n",
       "  <tbody>\n",
       "    <tr>\n",
       "      <th>count</th>\n",
       "      <td>1.500000e+04</td>\n",
       "      <td>15000.000000</td>\n",
       "      <td>15000.000000</td>\n",
       "      <td>15000.000000</td>\n",
       "      <td>15000.000000</td>\n",
       "      <td>15000.000000</td>\n",
       "      <td>15000.000000</td>\n",
       "      <td>15000.000000</td>\n",
       "    </tr>\n",
       "    <tr>\n",
       "      <th>mean</th>\n",
       "      <td>1.497736e+07</td>\n",
       "      <td>42.789800</td>\n",
       "      <td>174.465133</td>\n",
       "      <td>74.966867</td>\n",
       "      <td>15.530600</td>\n",
       "      <td>95.518533</td>\n",
       "      <td>40.025453</td>\n",
       "      <td>89.539533</td>\n",
       "    </tr>\n",
       "    <tr>\n",
       "      <th>std</th>\n",
       "      <td>2.872851e+06</td>\n",
       "      <td>16.980264</td>\n",
       "      <td>14.258114</td>\n",
       "      <td>15.035657</td>\n",
       "      <td>8.319203</td>\n",
       "      <td>9.583328</td>\n",
       "      <td>0.779230</td>\n",
       "      <td>62.456978</td>\n",
       "    </tr>\n",
       "    <tr>\n",
       "      <th>min</th>\n",
       "      <td>1.000116e+07</td>\n",
       "      <td>20.000000</td>\n",
       "      <td>123.000000</td>\n",
       "      <td>36.000000</td>\n",
       "      <td>1.000000</td>\n",
       "      <td>67.000000</td>\n",
       "      <td>37.100000</td>\n",
       "      <td>1.000000</td>\n",
       "    </tr>\n",
       "    <tr>\n",
       "      <th>25%</th>\n",
       "      <td>1.247419e+07</td>\n",
       "      <td>28.000000</td>\n",
       "      <td>164.000000</td>\n",
       "      <td>63.000000</td>\n",
       "      <td>8.000000</td>\n",
       "      <td>88.000000</td>\n",
       "      <td>39.600000</td>\n",
       "      <td>35.000000</td>\n",
       "    </tr>\n",
       "    <tr>\n",
       "      <th>50%</th>\n",
       "      <td>1.499728e+07</td>\n",
       "      <td>39.000000</td>\n",
       "      <td>175.000000</td>\n",
       "      <td>74.000000</td>\n",
       "      <td>16.000000</td>\n",
       "      <td>96.000000</td>\n",
       "      <td>40.200000</td>\n",
       "      <td>79.000000</td>\n",
       "    </tr>\n",
       "    <tr>\n",
       "      <th>75%</th>\n",
       "      <td>1.744928e+07</td>\n",
       "      <td>56.000000</td>\n",
       "      <td>185.000000</td>\n",
       "      <td>87.000000</td>\n",
       "      <td>23.000000</td>\n",
       "      <td>103.000000</td>\n",
       "      <td>40.600000</td>\n",
       "      <td>138.000000</td>\n",
       "    </tr>\n",
       "    <tr>\n",
       "      <th>max</th>\n",
       "      <td>1.999965e+07</td>\n",
       "      <td>79.000000</td>\n",
       "      <td>222.000000</td>\n",
       "      <td>132.000000</td>\n",
       "      <td>30.000000</td>\n",
       "      <td>128.000000</td>\n",
       "      <td>41.500000</td>\n",
       "      <td>314.000000</td>\n",
       "    </tr>\n",
       "  </tbody>\n",
       "</table>\n",
       "</div>"
      ],
      "text/plain": [
       "            User_ID           Age        Height        Weight      Duration  \\\n",
       "count  1.500000e+04  15000.000000  15000.000000  15000.000000  15000.000000   \n",
       "mean   1.497736e+07     42.789800    174.465133     74.966867     15.530600   \n",
       "std    2.872851e+06     16.980264     14.258114     15.035657      8.319203   \n",
       "min    1.000116e+07     20.000000    123.000000     36.000000      1.000000   \n",
       "25%    1.247419e+07     28.000000    164.000000     63.000000      8.000000   \n",
       "50%    1.499728e+07     39.000000    175.000000     74.000000     16.000000   \n",
       "75%    1.744928e+07     56.000000    185.000000     87.000000     23.000000   \n",
       "max    1.999965e+07     79.000000    222.000000    132.000000     30.000000   \n",
       "\n",
       "         Heart_Rate     Body_Temp      Calories  \n",
       "count  15000.000000  15000.000000  15000.000000  \n",
       "mean      95.518533     40.025453     89.539533  \n",
       "std        9.583328      0.779230     62.456978  \n",
       "min       67.000000     37.100000      1.000000  \n",
       "25%       88.000000     39.600000     35.000000  \n",
       "50%       96.000000     40.200000     79.000000  \n",
       "75%      103.000000     40.600000    138.000000  \n",
       "max      128.000000     41.500000    314.000000  "
      ]
     },
     "execution_count": 13,
     "metadata": {},
     "output_type": "execute_result"
    }
   ],
   "source": [
    "#Data Analysis- statistical methods\n",
    "\n",
    "calories_data.describe()"
   ]
  },
  {
   "cell_type": "markdown",
   "id": "f34cf2a3",
   "metadata": {
    "papermill": {
     "duration": 0.017038,
     "end_time": "2023-12-22T15:39:54.475062",
     "exception": false,
     "start_time": "2023-12-22T15:39:54.458024",
     "status": "completed"
    },
    "tags": []
   },
   "source": [
    "# Data Visualisation"
   ]
  },
  {
   "cell_type": "code",
   "execution_count": 14,
   "id": "b2488989",
   "metadata": {
    "execution": {
     "iopub.execute_input": "2023-12-22T15:39:54.511450Z",
     "iopub.status.busy": "2023-12-22T15:39:54.511015Z",
     "iopub.status.idle": "2023-12-22T15:39:54.517498Z",
     "shell.execute_reply": "2023-12-22T15:39:54.516138Z"
    },
    "papermill": {
     "duration": 0.028039,
     "end_time": "2023-12-22T15:39:54.520323",
     "exception": false,
     "start_time": "2023-12-22T15:39:54.492284",
     "status": "completed"
    },
    "tags": []
   },
   "outputs": [],
   "source": [
    "sns.set()"
   ]
  },
  {
   "cell_type": "code",
   "execution_count": 15,
   "id": "cafd0367",
   "metadata": {
    "execution": {
     "iopub.execute_input": "2023-12-22T15:39:54.558487Z",
     "iopub.status.busy": "2023-12-22T15:39:54.558010Z",
     "iopub.status.idle": "2023-12-22T15:39:54.891327Z",
     "shell.execute_reply": "2023-12-22T15:39:54.889858Z"
    },
    "papermill": {
     "duration": 0.355715,
     "end_time": "2023-12-22T15:39:54.894369",
     "exception": false,
     "start_time": "2023-12-22T15:39:54.538654",
     "status": "completed"
    },
    "tags": []
   },
   "outputs": [
    {
     "data": {
      "text/plain": [
       "<Axes: xlabel='Gender', ylabel='count'>"
      ]
     },
     "execution_count": 15,
     "metadata": {},
     "output_type": "execute_result"
    },
    {
     "data": {
      "image/png": "[encoded data removed]",
      "text/plain": [
       "<Figure size 640x480 with 1 Axes>"
      ]
     },
     "metadata": {},
     "output_type": "display_data"
    }
   ],
   "source": [
    "#plotting gender column to number of males and females\n",
    "\n",
    "sns.countplot(calories_data,x='Gender')"
   ]
  },
  {
   "cell_type": "code",
   "execution_count": 16,
   "id": "7dd6ab47",
   "metadata": {
    "execution": {
     "iopub.execute_input": "2023-12-22T15:39:54.934390Z",
     "iopub.status.busy": "2023-12-22T15:39:54.933973Z",
     "iopub.status.idle": "2023-12-22T15:39:55.597442Z",
     "shell.execute_reply": "2023-12-22T15:39:55.596266Z"
    },
    "papermill": {
     "duration": 0.687206,
     "end_time": "2023-12-22T15:39:55.600437",
     "exception": false,
     "start_time": "2023-12-22T15:39:54.913231",
     "status": "completed"
    },
    "tags": []
   },
   "outputs": [
    {
     "name": "stderr",
     "output_type": "stream",
     "text": [
      "/tmp/ipykernel_19/3367991676.py:2: UserWarning: \n",
      "\n",
      "`distplot` is a deprecated function and will be removed in seaborn v0.14.0.\n",
      "\n",
      "Please adapt your code to use either `displot` (a figure-level function with\n",
      "similar flexibility) or `histplot` (an axes-level function for histograms).\n",
      "\n",
      "For a guide to updating your code to use the new functions, please see\n",
      "https://gist.github.com/mwaskom/de44147ed2974457ad6372750bbe5751\n",
      "\n",
      "  sns.distplot(calories_data['Age'])\n"
     ]
    },
    {
     "data": {
      "text/plain": [
       "<Axes: xlabel='Age', ylabel='Density'>"
      ]
     },
     "execution_count": 16,
     "metadata": {},
     "output_type": "execute_result"
    },
    {
     "data": {
      "image/png": "[encoded data removed]",
      "text/plain": [
       "<Figure size 640x480 with 1 Axes>"
      ]
     },
     "metadata": {},
     "output_type": "display_data"
    }
   ],
   "source": [
    "#finding the distribution of \"Age\" column\n",
    "sns.distplot(calories_data['Age'])"
   ]
  },
  {
   "cell_type": "code",
   "execution_count": 17,
   "id": "4d017b3b",
   "metadata": {
    "execution": {
     "iopub.execute_input": "2023-12-22T15:39:55.641226Z",
     "iopub.status.busy": "2023-12-22T15:39:55.640808Z",
     "iopub.status.idle": "2023-12-22T15:39:56.488335Z",
     "shell.execute_reply": "2023-12-22T15:39:56.486924Z"
    },
    "papermill": {
     "duration": 0.871825,
     "end_time": "2023-12-22T15:39:56.491415",
     "exception": false,
     "start_time": "2023-12-22T15:39:55.619590",
     "status": "completed"
    },
    "tags": []
   },
   "outputs": [
    {
     "data": {
      "text/plain": [
       "<seaborn.axisgrid.FacetGrid at 0x7b89063b0bb0>"
      ]
     },
     "execution_count": 17,
     "metadata": {},
     "output_type": "execute_result"
    },
    {
     "data": {
      "image/png": "[encoded data removed]",
      "text/plain": [
       "<Figure size 500x500 with 1 Axes>"
      ]
     },
     "metadata": {},
     "output_type": "display_data"
    }
   ],
   "source": [
    "sns.displot(calories_data['Age'])"
   ]
  },
  {
   "cell_type": "code",
   "execution_count": 18,
   "id": "9e23a92c",
   "metadata": {
    "execution": {
     "iopub.execute_input": "2023-12-22T15:39:56.535992Z",
     "iopub.status.busy": "2023-12-22T15:39:56.534330Z",
     "iopub.status.idle": "2023-12-22T15:39:57.052165Z",
     "shell.execute_reply": "2023-12-22T15:39:57.050788Z"
    },
    "papermill": {
     "duration": 0.542859,
     "end_time": "2023-12-22T15:39:57.054665",
     "exception": false,
     "start_time": "2023-12-22T15:39:56.511806",
     "status": "completed"
    },
    "tags": []
   },
   "outputs": [
    {
     "data": {
      "text/plain": [
       "<Axes: xlabel='Age', ylabel='Count'>"
      ]
     },
     "execution_count": 18,
     "metadata": {},
     "output_type": "execute_result"
    },
    {
     "data": {
      "image/png": "[encoded data removed]",
      "text/plain": [
       "<Figure size 640x480 with 1 Axes>"
      ]
     },
     "metadata": {},
     "output_type": "display_data"
    }
   ],
   "source": [
    "sns.histplot(calories_data['Age'])"
   ]
  },
  {
   "cell_type": "code",
   "execution_count": 19,
   "id": "972b8658",
   "metadata": {
    "execution": {
     "iopub.execute_input": "2023-12-22T15:39:57.097448Z",
     "iopub.status.busy": "2023-12-22T15:39:57.096904Z",
     "iopub.status.idle": "2023-12-22T15:39:57.757720Z",
     "shell.execute_reply": "2023-12-22T15:39:57.756221Z"
    },
    "papermill": {
     "duration": 0.686109,
     "end_time": "2023-12-22T15:39:57.760557",
     "exception": false,
     "start_time": "2023-12-22T15:39:57.074448",
     "status": "completed"
    },
    "tags": []
   },
   "outputs": [
    {
     "name": "stderr",
     "output_type": "stream",
     "text": [
      "/tmp/ipykernel_19/178982985.py:2: UserWarning: \n",
      "\n",
      "`distplot` is a deprecated function and will be removed in seaborn v0.14.0.\n",
      "\n",
      "Please adapt your code to use either `displot` (a figure-level function with\n",
      "similar flexibility) or `histplot` (an axes-level function for histograms).\n",
      "\n",
      "For a guide to updating your code to use the new functions, please see\n",
      "https://gist.github.com/mwaskom/de44147ed2974457ad6372750bbe5751\n",
      "\n",
      "  sns.distplot(calories_data['Height'])\n"
     ]
    },
    {
     "data": {
      "text/plain": [
       "<Axes: xlabel='Height', ylabel='Density'>"
      ]
     },
     "execution_count": 19,
     "metadata": {},
     "output_type": "execute_result"
    },
    {
     "data": {
      "image/png": "[encoded data removed]",
      "text/plain": [
       "<Figure size 640x480 with 1 Axes>"
      ]
     },
     "metadata": {},
     "output_type": "display_data"
    }
   ],
   "source": [
    "#finding the distribution of \"Height\" column\n",
    "sns.distplot(calories_data['Height'])"
   ]
  },
  {
   "cell_type": "code",
   "execution_count": 20,
   "id": "45edc8a7",
   "metadata": {
    "execution": {
     "iopub.execute_input": "2023-12-22T15:39:57.804610Z",
     "iopub.status.busy": "2023-12-22T15:39:57.804142Z",
     "iopub.status.idle": "2023-12-22T15:39:58.465426Z",
     "shell.execute_reply": "2023-12-22T15:39:58.463983Z"
    },
    "papermill": {
     "duration": 0.687071,
     "end_time": "2023-12-22T15:39:58.468407",
     "exception": false,
     "start_time": "2023-12-22T15:39:57.781336",
     "status": "completed"
    },
    "tags": []
   },
   "outputs": [
    {
     "name": "stderr",
     "output_type": "stream",
     "text": [
      "/tmp/ipykernel_19/3057770523.py:2: UserWarning: \n",
      "\n",
      "`distplot` is a deprecated function and will be removed in seaborn v0.14.0.\n",
      "\n",
      "Please adapt your code to use either `displot` (a figure-level function with\n",
      "similar flexibility) or `histplot` (an axes-level function for histograms).\n",
      "\n",
      "For a guide to updating your code to use the new functions, please see\n",
      "https://gist.github.com/mwaskom/de44147ed2974457ad6372750bbe5751\n",
      "\n",
      "  sns.distplot(calories_data['Weight'])\n"
     ]
    },
    {
     "data": {
      "text/plain": [
       "<Axes: xlabel='Weight', ylabel='Density'>"
      ]
     },
     "execution_count": 20,
     "metadata": {},
     "output_type": "execute_result"
    },
    {
     "data": {
      "image/png": "[encoded data removed]",
      "text/plain": [
       "<Figure size 640x480 with 1 Axes>"
      ]
     },
     "metadata": {},
     "output_type": "display_data"
    }
   ],
   "source": [
    "#finding the distribution of \"Weight\" column\n",
    "sns.distplot(calories_data['Weight'])"
   ]
  },
  {
   "cell_type": "code",
   "execution_count": 21,
   "id": "d9acbb59",
   "metadata": {
    "execution": {
     "iopub.execute_input": "2023-12-22T15:39:58.517777Z",
     "iopub.status.busy": "2023-12-22T15:39:58.517275Z",
     "iopub.status.idle": "2023-12-22T15:39:59.215956Z",
     "shell.execute_reply": "2023-12-22T15:39:59.214897Z"
    },
    "papermill": {
     "duration": 0.726421,
     "end_time": "2023-12-22T15:39:59.218698",
     "exception": false,
     "start_time": "2023-12-22T15:39:58.492277",
     "status": "completed"
    },
    "tags": []
   },
   "outputs": [
    {
     "name": "stderr",
     "output_type": "stream",
     "text": [
      "/tmp/ipykernel_19/1910284300.py:2: UserWarning: \n",
      "\n",
      "`distplot` is a deprecated function and will be removed in seaborn v0.14.0.\n",
      "\n",
      "Please adapt your code to use either `displot` (a figure-level function with\n",
      "similar flexibility) or `histplot` (an axes-level function for histograms).\n",
      "\n",
      "For a guide to updating your code to use the new functions, please see\n",
      "https://gist.github.com/mwaskom/de44147ed2974457ad6372750bbe5751\n",
      "\n",
      "  sns.distplot(calories_data['Heart_Rate'])\n"
     ]
    },
    {
     "data": {
      "text/plain": [
       "<Axes: xlabel='Heart_Rate', ylabel='Density'>"
      ]
     },
     "execution_count": 21,
     "metadata": {},
     "output_type": "execute_result"
    },
    {
     "data": {
      "image/png": "[encoded data removed]",
      "text/plain": [
       "<Figure size 640x480 with 1 Axes>"
      ]
     },
     "metadata": {},
     "output_type": "display_data"
    }
   ],
   "source": [
    "#finding the distribution of \"Heart-Rate\" column\n",
    "sns.distplot(calories_data['Heart_Rate'])"
   ]
  },
  {
   "cell_type": "code",
   "execution_count": 22,
   "id": "b4dc06d9",
   "metadata": {
    "execution": {
     "iopub.execute_input": "2023-12-22T15:39:59.268444Z",
     "iopub.status.busy": "2023-12-22T15:39:59.267559Z",
     "iopub.status.idle": "2023-12-22T15:40:00.033742Z",
     "shell.execute_reply": "2023-12-22T15:40:00.032583Z"
    },
    "papermill": {
     "duration": 0.795473,
     "end_time": "2023-12-22T15:40:00.037630",
     "exception": false,
     "start_time": "2023-12-22T15:39:59.242157",
     "status": "completed"
    },
    "tags": []
   },
   "outputs": [
    {
     "data": {
      "text/plain": [
       "<seaborn.axisgrid.FacetGrid at 0x7b89020b9480>"
      ]
     },
     "execution_count": 22,
     "metadata": {},
     "output_type": "execute_result"
    },
    {
     "data": {
      "image/png": "[encoded data removed]",
      "text/plain": [
       "<Figure size 500x500 with 1 Axes>"
      ]
     },
     "metadata": {},
     "output_type": "display_data"
    }
   ],
   "source": [
    "#finding the distribution of \"Duration\" column\n",
    "sns.displot(calories_data['Duration'])"
   ]
  },
  {
   "cell_type": "code",
   "execution_count": 23,
   "id": "933c447b",
   "metadata": {
    "execution": {
     "iopub.execute_input": "2023-12-22T15:40:00.089093Z",
     "iopub.status.busy": "2023-12-22T15:40:00.088631Z",
     "iopub.status.idle": "2023-12-22T15:40:00.101753Z",
     "shell.execute_reply": "2023-12-22T15:40:00.100942Z"
    },
    "papermill": {
     "duration": 0.041738,
     "end_time": "2023-12-22T15:40:00.104112",
     "exception": false,
     "start_time": "2023-12-22T15:40:00.062374",
     "status": "completed"
    },
    "tags": []
   },
   "outputs": [],
   "source": [
    "#One hot encoding for categorical data\n",
    "\n",
    "calories_data['Gender']=pd.Categorical(calories_data['Gender'])\n",
    "calories_data_encoded=pd.get_dummies(calories_data,columns=['Gender'])"
   ]
  },
  {
   "cell_type": "code",
   "execution_count": 24,
   "id": "6ce60e91",
   "metadata": {
    "execution": {
     "iopub.execute_input": "2023-12-22T15:40:00.155956Z",
     "iopub.status.busy": "2023-12-22T15:40:00.154776Z",
     "iopub.status.idle": "2023-12-22T15:40:00.168623Z",
     "shell.execute_reply": "2023-12-22T15:40:00.167370Z"
    },
    "papermill": {
     "duration": 0.043602,
     "end_time": "2023-12-22T15:40:00.171734",
     "exception": false,
     "start_time": "2023-12-22T15:40:00.128132",
     "status": "completed"
    },
    "tags": []
   },
   "outputs": [],
   "source": [
    "correlation_matrix=calories_data_encoded.corr()"
   ]
  },
  {
   "cell_type": "code",
   "execution_count": 25,
   "id": "b06a2499",
   "metadata": {
    "execution": {
     "iopub.execute_input": "2023-12-22T15:40:00.220447Z",
     "iopub.status.busy": "2023-12-22T15:40:00.219230Z",
     "iopub.status.idle": "2023-12-22T15:40:01.329155Z",
     "shell.execute_reply": "2023-12-22T15:40:01.327753Z"
    },
    "papermill": {
     "duration": 1.137628,
     "end_time": "2023-12-22T15:40:01.332718",
     "exception": false,
     "start_time": "2023-12-22T15:40:00.195090",
     "status": "completed"
    },
    "tags": []
   },
   "outputs": [
    {
     "data": {
      "text/plain": [
       "<Axes: >"
      ]
     },
     "execution_count": 25,
     "metadata": {},
     "output_type": "execute_result"
    },
    {
     "data": {
      "image/png": "[encoded data removed]",
      "text/plain": [
       "<Figure size 1000x1000 with 2 Axes>"
      ]
     },
     "metadata": {},
     "output_type": "display_data"
    }
   ],
   "source": [
    "#Constructing a heatmap to understsnad the correlation\n",
    "\n",
    "plt.figure(figsize=(10,10))\n",
    "sns.heatmap(correlation_matrix,cbar=True,square=True,fmt='.1f',annot=True,annot_kws={'size':8},cmap='Greens')"
   ]
  },
  {
   "cell_type": "code",
   "execution_count": 26,
   "id": "92824c24",
   "metadata": {
    "execution": {
     "iopub.execute_input": "2023-12-22T15:40:01.386883Z",
     "iopub.status.busy": "2023-12-22T15:40:01.386370Z",
     "iopub.status.idle": "2023-12-22T15:40:01.399251Z",
     "shell.execute_reply": "2023-12-22T15:40:01.397966Z"
    },
    "papermill": {
     "duration": 0.043177,
     "end_time": "2023-12-22T15:40:01.402208",
     "exception": false,
     "start_time": "2023-12-22T15:40:01.359031",
     "status": "completed"
    },
    "tags": []
   },
   "outputs": [],
   "source": [
    "#Without categorical values\n",
    "\n",
    "calories_data['Gender'] = pd.Categorical(calories_data['Gender'])\n",
    "\n",
    "\n",
    "categorical_columns = calories_data.select_dtypes(include=['category']).columns\n",
    "\n",
    "# Excluding categorical columns from correlation calculation\n",
    "numeric_columns = calories_data.drop(columns=categorical_columns)\n",
    "correlation = numeric_columns.corr()"
   ]
  },
  {
   "cell_type": "code",
   "execution_count": 27,
   "id": "07988323",
   "metadata": {
    "execution": {
     "iopub.execute_input": "2023-12-22T15:40:01.457339Z",
     "iopub.status.busy": "2023-12-22T15:40:01.456316Z",
     "iopub.status.idle": "2023-12-22T15:40:02.199808Z",
     "shell.execute_reply": "2023-12-22T15:40:02.198460Z"
    },
    "papermill": {
     "duration": 0.775313,
     "end_time": "2023-12-22T15:40:02.203638",
     "exception": false,
     "start_time": "2023-12-22T15:40:01.428325",
     "status": "completed"
    },
    "tags": []
   },
   "outputs": [
    {
     "data": {
      "text/plain": [
       "<Axes: >"
      ]
     },
     "execution_count": 27,
     "metadata": {},
     "output_type": "execute_result"
    },
    {
     "data": {
      "image/png": "[encoded data removed]",
      "text/plain": [
       "<Figure size 1000x1000 with 2 Axes>"
      ]
     },
     "metadata": {},
     "output_type": "display_data"
    }
   ],
   "source": [
    "#Constructing a heatmap to understsnad the correlation\n",
    "\n",
    "plt.figure(figsize=(10,10))\n",
    "sns.heatmap(correlation,cbar=True,square=True,fmt='.1f',annot=True,annot_kws={'size':8},cmap='Blues')"
   ]
  },
  {
   "cell_type": "code",
   "execution_count": 28,
   "id": "50917b7b",
   "metadata": {
    "execution": {
     "iopub.execute_input": "2023-12-22T15:40:02.260467Z",
     "iopub.status.busy": "2023-12-22T15:40:02.259705Z",
     "iopub.status.idle": "2023-12-22T15:40:02.279070Z",
     "shell.execute_reply": "2023-12-22T15:40:02.277975Z"
    },
    "papermill": {
     "duration": 0.051034,
     "end_time": "2023-12-22T15:40:02.281701",
     "exception": false,
     "start_time": "2023-12-22T15:40:02.230667",
     "status": "completed"
    },
    "tags": []
   },
   "outputs": [
    {
     "data": {
      "text/html": [
       "<div>\n",
       "<style scoped>\n",
       "    .dataframe tbody tr th:only-of-type {\n",
       "        vertical-align: middle;\n",
       "    }\n",
       "\n",
       "    .dataframe tbody tr th {\n",
       "        vertical-align: top;\n",
       "    }\n",
       "\n",
       "    .dataframe thead th {\n",
       "        text-align: right;\n",
       "    }\n",
       "</style>\n",
       "<table border=\"1\" class=\"dataframe\">\n",
       "  <thead>\n",
       "    <tr style=\"text-align: right;\">\n",
       "      <th></th>\n",
       "      <th>User_ID</th>\n",
       "      <th>Gender</th>\n",
       "      <th>Age</th>\n",
       "      <th>Height</th>\n",
       "      <th>Weight</th>\n",
       "      <th>Duration</th>\n",
       "      <th>Heart_Rate</th>\n",
       "      <th>Body_Temp</th>\n",
       "      <th>Calories</th>\n",
       "    </tr>\n",
       "  </thead>\n",
       "  <tbody>\n",
       "    <tr>\n",
       "      <th>0</th>\n",
       "      <td>14733363</td>\n",
       "      <td>male</td>\n",
       "      <td>68</td>\n",
       "      <td>190.0</td>\n",
       "      <td>94.0</td>\n",
       "      <td>29.0</td>\n",
       "      <td>105.0</td>\n",
       "      <td>40.8</td>\n",
       "      <td>231.0</td>\n",
       "    </tr>\n",
       "    <tr>\n",
       "      <th>1</th>\n",
       "      <td>14861698</td>\n",
       "      <td>female</td>\n",
       "      <td>20</td>\n",
       "      <td>166.0</td>\n",
       "      <td>60.0</td>\n",
       "      <td>14.0</td>\n",
       "      <td>94.0</td>\n",
       "      <td>40.3</td>\n",
       "      <td>66.0</td>\n",
       "    </tr>\n",
       "    <tr>\n",
       "      <th>2</th>\n",
       "      <td>11179863</td>\n",
       "      <td>male</td>\n",
       "      <td>69</td>\n",
       "      <td>179.0</td>\n",
       "      <td>79.0</td>\n",
       "      <td>5.0</td>\n",
       "      <td>88.0</td>\n",
       "      <td>38.7</td>\n",
       "      <td>26.0</td>\n",
       "    </tr>\n",
       "    <tr>\n",
       "      <th>3</th>\n",
       "      <td>16180408</td>\n",
       "      <td>female</td>\n",
       "      <td>34</td>\n",
       "      <td>179.0</td>\n",
       "      <td>71.0</td>\n",
       "      <td>13.0</td>\n",
       "      <td>100.0</td>\n",
       "      <td>40.5</td>\n",
       "      <td>71.0</td>\n",
       "    </tr>\n",
       "    <tr>\n",
       "      <th>4</th>\n",
       "      <td>17771927</td>\n",
       "      <td>female</td>\n",
       "      <td>27</td>\n",
       "      <td>154.0</td>\n",
       "      <td>58.0</td>\n",
       "      <td>10.0</td>\n",
       "      <td>81.0</td>\n",
       "      <td>39.8</td>\n",
       "      <td>35.0</td>\n",
       "    </tr>\n",
       "  </tbody>\n",
       "</table>\n",
       "</div>"
      ],
      "text/plain": [
       "    User_ID  Gender  Age  Height  Weight  Duration  Heart_Rate  Body_Temp  \\\n",
       "0  14733363    male   68   190.0    94.0      29.0       105.0       40.8   \n",
       "1  14861698  female   20   166.0    60.0      14.0        94.0       40.3   \n",
       "2  11179863    male   69   179.0    79.0       5.0        88.0       38.7   \n",
       "3  16180408  female   34   179.0    71.0      13.0       100.0       40.5   \n",
       "4  17771927  female   27   154.0    58.0      10.0        81.0       39.8   \n",
       "\n",
       "   Calories  \n",
       "0     231.0  \n",
       "1      66.0  \n",
       "2      26.0  \n",
       "3      71.0  \n",
       "4      35.0  "
      ]
     },
     "execution_count": 28,
     "metadata": {},
     "output_type": "execute_result"
    }
   ],
   "source": [
    "calories_data.head()"
   ]
  },
  {
   "cell_type": "code",
   "execution_count": 29,
   "id": "f7ae9b2c",
   "metadata": {
    "execution": {
     "iopub.execute_input": "2023-12-22T15:40:02.337214Z",
     "iopub.status.busy": "2023-12-22T15:40:02.336750Z",
     "iopub.status.idle": "2023-12-22T15:40:02.346939Z",
     "shell.execute_reply": "2023-12-22T15:40:02.345539Z"
    },
    "papermill": {
     "duration": 0.040926,
     "end_time": "2023-12-22T15:40:02.349383",
     "exception": false,
     "start_time": "2023-12-22T15:40:02.308457",
     "status": "completed"
    },
    "tags": []
   },
   "outputs": [],
   "source": [
    "calories_data.replace({'Gender':{'male':0,'female':1}},inplace=True)"
   ]
  },
  {
   "cell_type": "code",
   "execution_count": 30,
   "id": "54c20685",
   "metadata": {
    "execution": {
     "iopub.execute_input": "2023-12-22T15:40:02.407322Z",
     "iopub.status.busy": "2023-12-22T15:40:02.406021Z",
     "iopub.status.idle": "2023-12-22T15:40:02.427465Z",
     "shell.execute_reply": "2023-12-22T15:40:02.426491Z"
    },
    "papermill": {
     "duration": 0.052655,
     "end_time": "2023-12-22T15:40:02.429800",
     "exception": false,
     "start_time": "2023-12-22T15:40:02.377145",
     "status": "completed"
    },
    "tags": []
   },
   "outputs": [
    {
     "data": {
      "text/html": [
       "<div>\n",
       "<style scoped>\n",
       "    .dataframe tbody tr th:only-of-type {\n",
       "        vertical-align: middle;\n",
       "    }\n",
       "\n",
       "    .dataframe tbody tr th {\n",
       "        vertical-align: top;\n",
       "    }\n",
       "\n",
       "    .dataframe thead th {\n",
       "        text-align: right;\n",
       "    }\n",
       "</style>\n",
       "<table border=\"1\" class=\"dataframe\">\n",
       "  <thead>\n",
       "    <tr style=\"text-align: right;\">\n",
       "      <th></th>\n",
       "      <th>User_ID</th>\n",
       "      <th>Gender</th>\n",
       "      <th>Age</th>\n",
       "      <th>Height</th>\n",
       "      <th>Weight</th>\n",
       "      <th>Duration</th>\n",
       "      <th>Heart_Rate</th>\n",
       "      <th>Body_Temp</th>\n",
       "      <th>Calories</th>\n",
       "    </tr>\n",
       "  </thead>\n",
       "  <tbody>\n",
       "    <tr>\n",
       "      <th>0</th>\n",
       "      <td>14733363</td>\n",
       "      <td>0</td>\n",
       "      <td>68</td>\n",
       "      <td>190.0</td>\n",
       "      <td>94.0</td>\n",
       "      <td>29.0</td>\n",
       "      <td>105.0</td>\n",
       "      <td>40.8</td>\n",
       "      <td>231.0</td>\n",
       "    </tr>\n",
       "    <tr>\n",
       "      <th>1</th>\n",
       "      <td>14861698</td>\n",
       "      <td>1</td>\n",
       "      <td>20</td>\n",
       "      <td>166.0</td>\n",
       "      <td>60.0</td>\n",
       "      <td>14.0</td>\n",
       "      <td>94.0</td>\n",
       "      <td>40.3</td>\n",
       "      <td>66.0</td>\n",
       "    </tr>\n",
       "    <tr>\n",
       "      <th>2</th>\n",
       "      <td>11179863</td>\n",
       "      <td>0</td>\n",
       "      <td>69</td>\n",
       "      <td>179.0</td>\n",
       "      <td>79.0</td>\n",
       "      <td>5.0</td>\n",
       "      <td>88.0</td>\n",
       "      <td>38.7</td>\n",
       "      <td>26.0</td>\n",
       "    </tr>\n",
       "    <tr>\n",
       "      <th>3</th>\n",
       "      <td>16180408</td>\n",
       "      <td>1</td>\n",
       "      <td>34</td>\n",
       "      <td>179.0</td>\n",
       "      <td>71.0</td>\n",
       "      <td>13.0</td>\n",
       "      <td>100.0</td>\n",
       "      <td>40.5</td>\n",
       "      <td>71.0</td>\n",
       "    </tr>\n",
       "    <tr>\n",
       "      <th>4</th>\n",
       "      <td>17771927</td>\n",
       "      <td>1</td>\n",
       "      <td>27</td>\n",
       "      <td>154.0</td>\n",
       "      <td>58.0</td>\n",
       "      <td>10.0</td>\n",
       "      <td>81.0</td>\n",
       "      <td>39.8</td>\n",
       "      <td>35.0</td>\n",
       "    </tr>\n",
       "  </tbody>\n",
       "</table>\n",
       "</div>"
      ],
      "text/plain": [
       "    User_ID Gender  Age  Height  Weight  Duration  Heart_Rate  Body_Temp  \\\n",
       "0  14733363      0   68   190.0    94.0      29.0       105.0       40.8   \n",
       "1  14861698      1   20   166.0    60.0      14.0        94.0       40.3   \n",
       "2  11179863      0   69   179.0    79.0       5.0        88.0       38.7   \n",
       "3  16180408      1   34   179.0    71.0      13.0       100.0       40.5   \n",
       "4  17771927      1   27   154.0    58.0      10.0        81.0       39.8   \n",
       "\n",
       "   Calories  \n",
       "0     231.0  \n",
       "1      66.0  \n",
       "2      26.0  \n",
       "3      71.0  \n",
       "4      35.0  "
      ]
     },
     "execution_count": 30,
     "metadata": {},
     "output_type": "execute_result"
    }
   ],
   "source": [
    "calories_data.head()"
   ]
  },
  {
   "cell_type": "markdown",
   "id": "410a527e",
   "metadata": {
    "papermill": {
     "duration": 0.028101,
     "end_time": "2023-12-22T15:40:02.486147",
     "exception": false,
     "start_time": "2023-12-22T15:40:02.458046",
     "status": "completed"
    },
    "tags": []
   },
   "source": [
    "# Separating features and Target"
   ]
  },
  {
   "cell_type": "code",
   "execution_count": 31,
   "id": "547b31a1",
   "metadata": {
    "execution": {
     "iopub.execute_input": "2023-12-22T15:40:02.546359Z",
     "iopub.status.busy": "2023-12-22T15:40:02.545425Z",
     "iopub.status.idle": "2023-12-22T15:40:02.552533Z",
     "shell.execute_reply": "2023-12-22T15:40:02.551332Z"
    },
    "papermill": {
     "duration": 0.039495,
     "end_time": "2023-12-22T15:40:02.555309",
     "exception": false,
     "start_time": "2023-12-22T15:40:02.515814",
     "status": "completed"
    },
    "tags": []
   },
   "outputs": [],
   "source": [
    "X=calories_data.drop(columns=['User_ID','Calories'],axis=1)\n",
    "Y=calories_data['Calories']"
   ]
  },
  {
   "cell_type": "code",
   "execution_count": 32,
   "id": "ea262be8",
   "metadata": {
    "execution": {
     "iopub.execute_input": "2023-12-22T15:40:02.611670Z",
     "iopub.status.busy": "2023-12-22T15:40:02.611235Z",
     "iopub.status.idle": "2023-12-22T15:40:02.628768Z",
     "shell.execute_reply": "2023-12-22T15:40:02.627680Z"
    },
    "papermill": {
     "duration": 0.048804,
     "end_time": "2023-12-22T15:40:02.631181",
     "exception": false,
     "start_time": "2023-12-22T15:40:02.582377",
     "status": "completed"
    },
    "tags": []
   },
   "outputs": [
    {
     "data": {
      "text/html": [
       "<div>\n",
       "<style scoped>\n",
       "    .dataframe tbody tr th:only-of-type {\n",
       "        vertical-align: middle;\n",
       "    }\n",
       "\n",
       "    .dataframe tbody tr th {\n",
       "        vertical-align: top;\n",
       "    }\n",
       "\n",
       "    .dataframe thead th {\n",
       "        text-align: right;\n",
       "    }\n",
       "</style>\n",
       "<table border=\"1\" class=\"dataframe\">\n",
       "  <thead>\n",
       "    <tr style=\"text-align: right;\">\n",
       "      <th></th>\n",
       "      <th>Gender</th>\n",
       "      <th>Age</th>\n",
       "      <th>Height</th>\n",
       "      <th>Weight</th>\n",
       "      <th>Duration</th>\n",
       "      <th>Heart_Rate</th>\n",
       "      <th>Body_Temp</th>\n",
       "    </tr>\n",
       "  </thead>\n",
       "  <tbody>\n",
       "    <tr>\n",
       "      <th>0</th>\n",
       "      <td>0</td>\n",
       "      <td>68</td>\n",
       "      <td>190.0</td>\n",
       "      <td>94.0</td>\n",
       "      <td>29.0</td>\n",
       "      <td>105.0</td>\n",
       "      <td>40.8</td>\n",
       "    </tr>\n",
       "    <tr>\n",
       "      <th>1</th>\n",
       "      <td>1</td>\n",
       "      <td>20</td>\n",
       "      <td>166.0</td>\n",
       "      <td>60.0</td>\n",
       "      <td>14.0</td>\n",
       "      <td>94.0</td>\n",
       "      <td>40.3</td>\n",
       "    </tr>\n",
       "    <tr>\n",
       "      <th>2</th>\n",
       "      <td>0</td>\n",
       "      <td>69</td>\n",
       "      <td>179.0</td>\n",
       "      <td>79.0</td>\n",
       "      <td>5.0</td>\n",
       "      <td>88.0</td>\n",
       "      <td>38.7</td>\n",
       "    </tr>\n",
       "    <tr>\n",
       "      <th>3</th>\n",
       "      <td>1</td>\n",
       "      <td>34</td>\n",
       "      <td>179.0</td>\n",
       "      <td>71.0</td>\n",
       "      <td>13.0</td>\n",
       "      <td>100.0</td>\n",
       "      <td>40.5</td>\n",
       "    </tr>\n",
       "    <tr>\n",
       "      <th>4</th>\n",
       "      <td>1</td>\n",
       "      <td>27</td>\n",
       "      <td>154.0</td>\n",
       "      <td>58.0</td>\n",
       "      <td>10.0</td>\n",
       "      <td>81.0</td>\n",
       "      <td>39.8</td>\n",
       "    </tr>\n",
       "  </tbody>\n",
       "</table>\n",
       "</div>"
      ],
      "text/plain": [
       "  Gender  Age  Height  Weight  Duration  Heart_Rate  Body_Temp\n",
       "0      0   68   190.0    94.0      29.0       105.0       40.8\n",
       "1      1   20   166.0    60.0      14.0        94.0       40.3\n",
       "2      0   69   179.0    79.0       5.0        88.0       38.7\n",
       "3      1   34   179.0    71.0      13.0       100.0       40.5\n",
       "4      1   27   154.0    58.0      10.0        81.0       39.8"
      ]
     },
     "execution_count": 32,
     "metadata": {},
     "output_type": "execute_result"
    }
   ],
   "source": [
    "X.head()"
   ]
  },
  {
   "cell_type": "code",
   "execution_count": 33,
   "id": "7f9ff53d",
   "metadata": {
    "execution": {
     "iopub.execute_input": "2023-12-22T15:40:02.687188Z",
     "iopub.status.busy": "2023-12-22T15:40:02.686754Z",
     "iopub.status.idle": "2023-12-22T15:40:02.695962Z",
     "shell.execute_reply": "2023-12-22T15:40:02.694842Z"
    },
    "papermill": {
     "duration": 0.040159,
     "end_time": "2023-12-22T15:40:02.698361",
     "exception": false,
     "start_time": "2023-12-22T15:40:02.658202",
     "status": "completed"
    },
    "tags": []
   },
   "outputs": [
    {
     "data": {
      "text/plain": [
       "0        231.0\n",
       "1         66.0\n",
       "2         26.0\n",
       "3         71.0\n",
       "4         35.0\n",
       "         ...  \n",
       "14995     45.0\n",
       "14996     23.0\n",
       "14997     75.0\n",
       "14998     11.0\n",
       "14999     98.0\n",
       "Name: Calories, Length: 15000, dtype: float64"
      ]
     },
     "execution_count": 33,
     "metadata": {},
     "output_type": "execute_result"
    }
   ],
   "source": [
    "Y"
   ]
  },
  {
   "cell_type": "markdown",
   "id": "4cd34e06",
   "metadata": {
    "papermill": {
     "duration": 0.027222,
     "end_time": "2023-12-22T15:40:02.752786",
     "exception": false,
     "start_time": "2023-12-22T15:40:02.725564",
     "status": "completed"
    },
    "tags": []
   },
   "source": [
    "# Splitting the data into training data and test data"
   ]
  },
  {
   "cell_type": "code",
   "execution_count": 34,
   "id": "96dd9877",
   "metadata": {
    "execution": {
     "iopub.execute_input": "2023-12-22T15:40:02.810648Z",
     "iopub.status.busy": "2023-12-22T15:40:02.809692Z",
     "iopub.status.idle": "2023-12-22T15:40:02.819186Z",
     "shell.execute_reply": "2023-12-22T15:40:02.818270Z"
    },
    "papermill": {
     "duration": 0.041535,
     "end_time": "2023-12-22T15:40:02.821731",
     "exception": false,
     "start_time": "2023-12-22T15:40:02.780196",
     "status": "completed"
    },
    "tags": []
   },
   "outputs": [],
   "source": [
    "X_train,X_test,Y_train,Y_test=train_test_split(X,Y,test_size=0.2,random_state=2)"
   ]
  },
  {
   "cell_type": "code",
   "execution_count": 35,
   "id": "7310fa95",
   "metadata": {
    "execution": {
     "iopub.execute_input": "2023-12-22T15:40:02.878003Z",
     "iopub.status.busy": "2023-12-22T15:40:02.877067Z",
     "iopub.status.idle": "2023-12-22T15:40:02.884666Z",
     "shell.execute_reply": "2023-12-22T15:40:02.883484Z"
    },
    "papermill": {
     "duration": 0.038313,
     "end_time": "2023-12-22T15:40:02.887083",
     "exception": false,
     "start_time": "2023-12-22T15:40:02.848770",
     "status": "completed"
    },
    "tags": []
   },
   "outputs": [
    {
     "name": "stdout",
     "output_type": "stream",
     "text": [
      "(12000, 7) (3000, 7) (12000,) (3000,)\n"
     ]
    }
   ],
   "source": [
    "print(X_train.shape,X_test.shape,Y_train.shape,Y_test.shape)"
   ]
  },
  {
   "cell_type": "code",
   "execution_count": 36,
   "id": "415d4baa",
   "metadata": {
    "execution": {
     "iopub.execute_input": "2023-12-22T15:40:02.942574Z",
     "iopub.status.busy": "2023-12-22T15:40:02.941689Z",
     "iopub.status.idle": "2023-12-22T15:40:02.966341Z",
     "shell.execute_reply": "2023-12-22T15:40:02.965431Z"
    },
    "papermill": {
     "duration": 0.05519,
     "end_time": "2023-12-22T15:40:02.968623",
     "exception": false,
     "start_time": "2023-12-22T15:40:02.913433",
     "status": "completed"
    },
    "tags": []
   },
   "outputs": [
    {
     "data": {
      "text/html": [
       "<div>\n",
       "<style scoped>\n",
       "    .dataframe tbody tr th:only-of-type {\n",
       "        vertical-align: middle;\n",
       "    }\n",
       "\n",
       "    .dataframe tbody tr th {\n",
       "        vertical-align: top;\n",
       "    }\n",
       "\n",
       "    .dataframe thead th {\n",
       "        text-align: right;\n",
       "    }\n",
       "</style>\n",
       "<table border=\"1\" class=\"dataframe\">\n",
       "  <thead>\n",
       "    <tr style=\"text-align: right;\">\n",
       "      <th></th>\n",
       "      <th>Gender</th>\n",
       "      <th>Age</th>\n",
       "      <th>Height</th>\n",
       "      <th>Weight</th>\n",
       "      <th>Duration</th>\n",
       "      <th>Heart_Rate</th>\n",
       "      <th>Body_Temp</th>\n",
       "    </tr>\n",
       "  </thead>\n",
       "  <tbody>\n",
       "    <tr>\n",
       "      <th>1154</th>\n",
       "      <td>1</td>\n",
       "      <td>38</td>\n",
       "      <td>169.0</td>\n",
       "      <td>67.0</td>\n",
       "      <td>3.0</td>\n",
       "      <td>85.0</td>\n",
       "      <td>38.5</td>\n",
       "    </tr>\n",
       "    <tr>\n",
       "      <th>9804</th>\n",
       "      <td>0</td>\n",
       "      <td>30</td>\n",
       "      <td>194.0</td>\n",
       "      <td>96.0</td>\n",
       "      <td>9.0</td>\n",
       "      <td>91.0</td>\n",
       "      <td>39.6</td>\n",
       "    </tr>\n",
       "    <tr>\n",
       "      <th>7919</th>\n",
       "      <td>1</td>\n",
       "      <td>78</td>\n",
       "      <td>182.0</td>\n",
       "      <td>79.0</td>\n",
       "      <td>7.0</td>\n",
       "      <td>84.0</td>\n",
       "      <td>39.4</td>\n",
       "    </tr>\n",
       "    <tr>\n",
       "      <th>4854</th>\n",
       "      <td>0</td>\n",
       "      <td>50</td>\n",
       "      <td>171.0</td>\n",
       "      <td>77.0</td>\n",
       "      <td>29.0</td>\n",
       "      <td>111.0</td>\n",
       "      <td>40.8</td>\n",
       "    </tr>\n",
       "    <tr>\n",
       "      <th>5947</th>\n",
       "      <td>1</td>\n",
       "      <td>32</td>\n",
       "      <td>172.0</td>\n",
       "      <td>66.0</td>\n",
       "      <td>29.0</td>\n",
       "      <td>105.0</td>\n",
       "      <td>40.8</td>\n",
       "    </tr>\n",
       "    <tr>\n",
       "      <th>...</th>\n",
       "      <td>...</td>\n",
       "      <td>...</td>\n",
       "      <td>...</td>\n",
       "      <td>...</td>\n",
       "      <td>...</td>\n",
       "      <td>...</td>\n",
       "      <td>...</td>\n",
       "    </tr>\n",
       "    <tr>\n",
       "      <th>11798</th>\n",
       "      <td>1</td>\n",
       "      <td>49</td>\n",
       "      <td>178.0</td>\n",
       "      <td>71.0</td>\n",
       "      <td>12.0</td>\n",
       "      <td>98.0</td>\n",
       "      <td>39.9</td>\n",
       "    </tr>\n",
       "    <tr>\n",
       "      <th>13896</th>\n",
       "      <td>1</td>\n",
       "      <td>67</td>\n",
       "      <td>159.0</td>\n",
       "      <td>58.0</td>\n",
       "      <td>23.0</td>\n",
       "      <td>101.0</td>\n",
       "      <td>40.4</td>\n",
       "    </tr>\n",
       "    <tr>\n",
       "      <th>6637</th>\n",
       "      <td>1</td>\n",
       "      <td>25</td>\n",
       "      <td>167.0</td>\n",
       "      <td>64.0</td>\n",
       "      <td>20.0</td>\n",
       "      <td>100.0</td>\n",
       "      <td>40.4</td>\n",
       "    </tr>\n",
       "    <tr>\n",
       "      <th>2575</th>\n",
       "      <td>1</td>\n",
       "      <td>36</td>\n",
       "      <td>167.0</td>\n",
       "      <td>64.0</td>\n",
       "      <td>28.0</td>\n",
       "      <td>108.0</td>\n",
       "      <td>40.8</td>\n",
       "    </tr>\n",
       "    <tr>\n",
       "      <th>7336</th>\n",
       "      <td>0</td>\n",
       "      <td>30</td>\n",
       "      <td>187.0</td>\n",
       "      <td>88.0</td>\n",
       "      <td>10.0</td>\n",
       "      <td>94.0</td>\n",
       "      <td>40.2</td>\n",
       "    </tr>\n",
       "  </tbody>\n",
       "</table>\n",
       "<p>12000 rows × 7 columns</p>\n",
       "</div>"
      ],
      "text/plain": [
       "      Gender  Age  Height  Weight  Duration  Heart_Rate  Body_Temp\n",
       "1154       1   38   169.0    67.0       3.0        85.0       38.5\n",
       "9804       0   30   194.0    96.0       9.0        91.0       39.6\n",
       "7919       1   78   182.0    79.0       7.0        84.0       39.4\n",
       "4854       0   50   171.0    77.0      29.0       111.0       40.8\n",
       "5947       1   32   172.0    66.0      29.0       105.0       40.8\n",
       "...      ...  ...     ...     ...       ...         ...        ...\n",
       "11798      1   49   178.0    71.0      12.0        98.0       39.9\n",
       "13896      1   67   159.0    58.0      23.0       101.0       40.4\n",
       "6637       1   25   167.0    64.0      20.0       100.0       40.4\n",
       "2575       1   36   167.0    64.0      28.0       108.0       40.8\n",
       "7336       0   30   187.0    88.0      10.0        94.0       40.2\n",
       "\n",
       "[12000 rows x 7 columns]"
      ]
     },
     "execution_count": 36,
     "metadata": {},
     "output_type": "execute_result"
    }
   ],
   "source": [
    "X_train"
   ]
  },
  {
   "cell_type": "code",
   "execution_count": 37,
   "id": "a7d3a288",
   "metadata": {
    "execution": {
     "iopub.execute_input": "2023-12-22T15:40:03.026240Z",
     "iopub.status.busy": "2023-12-22T15:40:03.025134Z",
     "iopub.status.idle": "2023-12-22T15:40:03.031004Z",
     "shell.execute_reply": "2023-12-22T15:40:03.030060Z"
    },
    "papermill": {
     "duration": 0.037096,
     "end_time": "2023-12-22T15:40:03.033268",
     "exception": false,
     "start_time": "2023-12-22T15:40:02.996172",
     "status": "completed"
    },
    "tags": []
   },
   "outputs": [],
   "source": [
    "X_train=X_train.astype(float)"
   ]
  },
  {
   "cell_type": "code",
   "execution_count": 38,
   "id": "c5bfbea2",
   "metadata": {
    "execution": {
     "iopub.execute_input": "2023-12-22T15:40:03.089766Z",
     "iopub.status.busy": "2023-12-22T15:40:03.088917Z",
     "iopub.status.idle": "2023-12-22T15:40:03.104057Z",
     "shell.execute_reply": "2023-12-22T15:40:03.103132Z"
    },
    "papermill": {
     "duration": 0.046181,
     "end_time": "2023-12-22T15:40:03.106356",
     "exception": false,
     "start_time": "2023-12-22T15:40:03.060175",
     "status": "completed"
    },
    "tags": []
   },
   "outputs": [
    {
     "name": "stdout",
     "output_type": "stream",
     "text": [
      "<bound method NDFrame.head of        Gender   Age  Height  Weight  Duration  Heart_Rate  Body_Temp\n",
      "1154      1.0  38.0   169.0    67.0       3.0        85.0       38.5\n",
      "9804      0.0  30.0   194.0    96.0       9.0        91.0       39.6\n",
      "7919      1.0  78.0   182.0    79.0       7.0        84.0       39.4\n",
      "4854      0.0  50.0   171.0    77.0      29.0       111.0       40.8\n",
      "5947      1.0  32.0   172.0    66.0      29.0       105.0       40.8\n",
      "...       ...   ...     ...     ...       ...         ...        ...\n",
      "11798     1.0  49.0   178.0    71.0      12.0        98.0       39.9\n",
      "13896     1.0  67.0   159.0    58.0      23.0       101.0       40.4\n",
      "6637      1.0  25.0   167.0    64.0      20.0       100.0       40.4\n",
      "2575      1.0  36.0   167.0    64.0      28.0       108.0       40.8\n",
      "7336      0.0  30.0   187.0    88.0      10.0        94.0       40.2\n",
      "\n",
      "[12000 rows x 7 columns]>\n"
     ]
    }
   ],
   "source": [
    "print(X_train.head)"
   ]
  },
  {
   "cell_type": "markdown",
   "id": "65f3750b",
   "metadata": {
    "papermill": {
     "duration": 0.026863,
     "end_time": "2023-12-22T15:40:03.160756",
     "exception": false,
     "start_time": "2023-12-22T15:40:03.133893",
     "status": "completed"
    },
    "tags": []
   },
   "source": [
    "# Model Training"
   ]
  },
  {
   "cell_type": "code",
   "execution_count": 39,
   "id": "bebb049a",
   "metadata": {
    "execution": {
     "iopub.execute_input": "2023-12-22T15:40:03.219627Z",
     "iopub.status.busy": "2023-12-22T15:40:03.219140Z",
     "iopub.status.idle": "2023-12-22T15:40:03.224322Z",
     "shell.execute_reply": "2023-12-22T15:40:03.223241Z"
    },
    "papermill": {
     "duration": 0.036478,
     "end_time": "2023-12-22T15:40:03.226760",
     "exception": false,
     "start_time": "2023-12-22T15:40:03.190282",
     "status": "completed"
    },
    "tags": []
   },
   "outputs": [],
   "source": [
    "model=XGBRegressor()"
   ]
  },
  {
   "cell_type": "code",
   "execution_count": 40,
   "id": "8211f490",
   "metadata": {
    "execution": {
     "iopub.execute_input": "2023-12-22T15:40:03.284790Z",
     "iopub.status.busy": "2023-12-22T15:40:03.284356Z",
     "iopub.status.idle": "2023-12-22T15:40:03.507475Z",
     "shell.execute_reply": "2023-12-22T15:40:03.506248Z"
    },
    "papermill": {
     "duration": 0.255182,
     "end_time": "2023-12-22T15:40:03.510470",
     "exception": false,
     "start_time": "2023-12-22T15:40:03.255288",
     "status": "completed"
    },
    "tags": []
   },
   "outputs": [
    {
     "data": {
      "text/html": [
       "<style>#sk-container-id-1 {color: black;background-color: white;}#sk-container-id-1 pre{padding: 0;}#sk-container-id-1 div.sk-toggleable {background-color: white;}#sk-container-id-1 label.sk-toggleable__label {cursor: pointer;display: block;width: 100%;margin-bottom: 0;padding: 0.3em;box-sizing: border-box;text-align: center;}#sk-container-id-1 label.sk-toggleable__label-arrow:before {content: \"▸\";float: left;margin-right: 0.25em;color: #696969;}#sk-container-id-1 label.sk-toggleable__label-arrow:hover:before {color: black;}#sk-container-id-1 div.sk-estimator:hover label.sk-toggleable__label-arrow:before {color: black;}#sk-container-id-1 div.sk-toggleable__content {max-height: 0;max-width: 0;overflow: hidden;text-align: left;background-color: #f0f8ff;}#sk-container-id-1 div.sk-toggleable__content pre {margin: 0.2em;color: black;border-radius: 0.25em;background-color: #f0f8ff;}#sk-container-id-1 input.sk-toggleable__control:checked~div.sk-toggleable__content {max-height: 200px;max-width: 100%;overflow: auto;}#sk-container-id-1 input.sk-toggleable__control:checked~label.sk-toggleable__label-arrow:before {content: \"▾\";}#sk-container-id-1 div.sk-estimator input.sk-toggleable__control:checked~label.sk-toggleable__label {background-color: #d4ebff;}#sk-container-id-1 div.sk-label input.sk-toggleable__control:checked~label.sk-toggleable__label {background-color: #d4ebff;}#sk-container-id-1 input.sk-hidden--visually {border: 0;clip: rect(1px 1px 1px 1px);clip: rect(1px, 1px, 1px, 1px);height: 1px;margin: -1px;overflow: hidden;padding: 0;position: absolute;width: 1px;}#sk-container-id-1 div.sk-estimator {font-family: monospace;background-color: #f0f8ff;border: 1px dotted black;border-radius: 0.25em;box-sizing: border-box;margin-bottom: 0.5em;}#sk-container-id-1 div.sk-estimator:hover {background-color: #d4ebff;}#sk-container-id-1 div.sk-parallel-item::after {content: \"\";width: 100%;border-bottom: 1px solid gray;flex-grow: 1;}#sk-container-id-1 div.sk-label:hover label.sk-toggleable__label {background-color: #d4ebff;}#sk-container-id-1 div.sk-serial::before {content: \"\";position: absolute;border-left: 1px solid gray;box-sizing: border-box;top: 0;bottom: 0;left: 50%;z-index: 0;}#sk-container-id-1 div.sk-serial {display: flex;flex-direction: column;align-items: center;background-color: white;padding-right: 0.2em;padding-left: 0.2em;position: relative;}#sk-container-id-1 div.sk-item {position: relative;z-index: 1;}#sk-container-id-1 div.sk-parallel {display: flex;align-items: stretch;justify-content: center;background-color: white;position: relative;}#sk-container-id-1 div.sk-item::before, #sk-container-id-1 div.sk-parallel-item::before {content: \"\";position: absolute;border-left: 1px solid gray;box-sizing: border-box;top: 0;bottom: 0;left: 50%;z-index: -1;}#sk-container-id-1 div.sk-parallel-item {display: flex;flex-direction: column;z-index: 1;position: relative;background-color: white;}#sk-container-id-1 div.sk-parallel-item:first-child::after {align-self: flex-end;width: 50%;}#sk-container-id-1 div.sk-parallel-item:last-child::after {align-self: flex-start;width: 50%;}#sk-container-id-1 div.sk-parallel-item:only-child::after {width: 0;}#sk-container-id-1 div.sk-dashed-wrapped {border: 1px dashed gray;margin: 0 0.4em 0.5em 0.4em;box-sizing: border-box;padding-bottom: 0.4em;background-color: white;}#sk-container-id-1 div.sk-label label {font-family: monospace;font-weight: bold;display: inline-block;line-height: 1.2em;}#sk-container-id-1 div.sk-label-container {text-align: center;}#sk-container-id-1 div.sk-container {/* jupyter's `normalize.less` sets `[hidden] { display: none; }` but bootstrap.min.css set `[hidden] { display: none !important; }` so we also need the `!important` here to be able to override the default hidden behavior on the sphinx rendered scikit-learn.org. See: https://github.com/scikit-learn/scikit-learn/issues/21755 */display: inline-block !important;position: relative;}#sk-container-id-1 div.sk-text-repr-fallback {display: none;}</style><div id=\"sk-container-id-1\" class=\"sk-top-container\"><div class=\"sk-text-repr-fallback\"><pre>XGBRegressor(base_score=None, booster=None, callbacks=None,\n",
       "             colsample_bylevel=None, colsample_bynode=None,\n",
       "             colsample_bytree=None, device=None, early_stopping_rounds=None,\n",
       "             enable_categorical=False, eval_metric=None, feature_types=None,\n",
       "             gamma=None, grow_policy=None, importance_type=None,\n",
       "             interaction_constraints=None, learning_rate=None, max_bin=None,\n",
       "             max_cat_threshold=None, max_cat_to_onehot=None,\n",
       "             max_delta_step=None, max_depth=None, max_leaves=None,\n",
       "             min_child_weight=None, missing=nan, monotone_constraints=None,\n",
       "             multi_strategy=None, n_estimators=None, n_jobs=None,\n",
       "             num_parallel_tree=None, random_state=None, ...)</pre><b>In a Jupyter environment, please rerun this cell to show the HTML representation or trust the notebook. <br />On GitHub, the HTML representation is unable to render, please try loading this page with nbviewer.org.</b></div><div class=\"sk-container\" hidden><div class=\"sk-item\"><div class=\"sk-estimator sk-toggleable\"><input class=\"sk-toggleable__control sk-hidden--visually\" id=\"sk-estimator-id-1\" type=\"checkbox\" checked><label for=\"sk-estimator-id-1\" class=\"sk-toggleable__label sk-toggleable__label-arrow\">XGBRegressor</label><div class=\"sk-toggleable__content\"><pre>XGBRegressor(base_score=None, booster=None, callbacks=None,\n",
       "             colsample_bylevel=None, colsample_bynode=None,\n",
       "             colsample_bytree=None, device=None, early_stopping_rounds=None,\n",
       "             enable_categorical=False, eval_metric=None, feature_types=None,\n",
       "             gamma=None, grow_policy=None, importance_type=None,\n",
       "             interaction_constraints=None, learning_rate=None, max_bin=None,\n",
       "             max_cat_threshold=None, max_cat_to_onehot=None,\n",
       "             max_delta_step=None, max_depth=None, max_leaves=None,\n",
       "             min_child_weight=None, missing=nan, monotone_constraints=None,\n",
       "             multi_strategy=None, n_estimators=None, n_jobs=None,\n",
       "             num_parallel_tree=None, random_state=None, ...)</pre></div></div></div></div></div>"
      ],
      "text/plain": [
       "XGBRegressor(base_score=None, booster=None, callbacks=None,\n",
       "             colsample_bylevel=None, colsample_bynode=None,\n",
       "             colsample_bytree=None, device=None, early_stopping_rounds=None,\n",
       "             enable_categorical=False, eval_metric=None, feature_types=None,\n",
       "             gamma=None, grow_policy=None, importance_type=None,\n",
       "             interaction_constraints=None, learning_rate=None, max_bin=None,\n",
       "             max_cat_threshold=None, max_cat_to_onehot=None,\n",
       "             max_delta_step=None, max_depth=None, max_leaves=None,\n",
       "             min_child_weight=None, missing=nan, monotone_constraints=None,\n",
       "             multi_strategy=None, n_estimators=None, n_jobs=None,\n",
       "             num_parallel_tree=None, random_state=None, ...)"
      ]
     },
     "execution_count": 40,
     "metadata": {},
     "output_type": "execute_result"
    }
   ],
   "source": [
    "model.fit(X_train,Y_train)"
   ]
  },
  {
   "cell_type": "markdown",
   "id": "f02d35ee",
   "metadata": {
    "papermill": {
     "duration": 0.030036,
     "end_time": "2023-12-22T15:40:03.569814",
     "exception": false,
     "start_time": "2023-12-22T15:40:03.539778",
     "status": "completed"
    },
    "tags": []
   },
   "source": [
    "# Evaluation on test data"
   ]
  },
  {
   "cell_type": "code",
   "execution_count": 41,
   "id": "04154edd",
   "metadata": {
    "execution": {
     "iopub.execute_input": "2023-12-22T15:40:03.629521Z",
     "iopub.status.busy": "2023-12-22T15:40:03.629097Z",
     "iopub.status.idle": "2023-12-22T15:40:03.647732Z",
     "shell.execute_reply": "2023-12-22T15:40:03.646740Z"
    },
    "papermill": {
     "duration": 0.052034,
     "end_time": "2023-12-22T15:40:03.650654",
     "exception": false,
     "start_time": "2023-12-22T15:40:03.598620",
     "status": "completed"
    },
    "tags": []
   },
   "outputs": [],
   "source": [
    "#Prediction\n",
    "\n",
    "test_data_prediction=model.predict(X_test)"
   ]
  },
  {
   "cell_type": "code",
   "execution_count": 42,
   "id": "7aad822b",
   "metadata": {
    "execution": {
     "iopub.execute_input": "2023-12-22T15:40:03.711184Z",
     "iopub.status.busy": "2023-12-22T15:40:03.710735Z",
     "iopub.status.idle": "2023-12-22T15:40:03.716931Z",
     "shell.execute_reply": "2023-12-22T15:40:03.715806Z"
    },
    "papermill": {
     "duration": 0.039314,
     "end_time": "2023-12-22T15:40:03.720047",
     "exception": false,
     "start_time": "2023-12-22T15:40:03.680733",
     "status": "completed"
    },
    "tags": []
   },
   "outputs": [
    {
     "name": "stdout",
     "output_type": "stream",
     "text": [
      "[125.94     180.8491    38.636337 ... 148.35341   20.833706  91.403206]\n"
     ]
    }
   ],
   "source": [
    "print(test_data_prediction)"
   ]
  },
  {
   "cell_type": "markdown",
   "id": "11c74988",
   "metadata": {
    "papermill": {
     "duration": 0.029287,
     "end_time": "2023-12-22T15:40:03.778405",
     "exception": false,
     "start_time": "2023-12-22T15:40:03.749118",
     "status": "completed"
    },
    "tags": []
   },
   "source": [
    "# Mean Absolute Error"
   ]
  },
  {
   "cell_type": "code",
   "execution_count": 43,
   "id": "71f016e4",
   "metadata": {
    "execution": {
     "iopub.execute_input": "2023-12-22T15:40:03.840003Z",
     "iopub.status.busy": "2023-12-22T15:40:03.839460Z",
     "iopub.status.idle": "2023-12-22T15:40:03.845744Z",
     "shell.execute_reply": "2023-12-22T15:40:03.844772Z"
    },
    "papermill": {
     "duration": 0.040426,
     "end_time": "2023-12-22T15:40:03.848114",
     "exception": false,
     "start_time": "2023-12-22T15:40:03.807688",
     "status": "completed"
    },
    "tags": []
   },
   "outputs": [],
   "source": [
    "mean_abs_error=metrics.mean_absolute_error(Y_test,test_data_prediction)"
   ]
  },
  {
   "cell_type": "code",
   "execution_count": 44,
   "id": "b6dd8366",
   "metadata": {
    "execution": {
     "iopub.execute_input": "2023-12-22T15:40:03.907080Z",
     "iopub.status.busy": "2023-12-22T15:40:03.906175Z",
     "iopub.status.idle": "2023-12-22T15:40:03.912280Z",
     "shell.execute_reply": "2023-12-22T15:40:03.910790Z"
    },
    "papermill": {
     "duration": 0.0382,
     "end_time": "2023-12-22T15:40:03.914513",
     "exception": false,
     "start_time": "2023-12-22T15:40:03.876313",
     "status": "completed"
    },
    "tags": []
   },
   "outputs": [
    {
     "name": "stdout",
     "output_type": "stream",
     "text": [
      "Mean Absolute error: 9.223079592381914\n"
     ]
    }
   ],
   "source": [
    "print(\"Mean Absolute error:\",mean_abs_error)"
   ]
  },
  {
   "cell_type": "code",
   "execution_count": null,
   "id": "0a4451a1",
   "metadata": {
    "papermill": {
     "duration": 0.027663,
     "end_time": "2023-12-22T15:40:03.970301",
     "exception": false,
     "start_time": "2023-12-22T15:40:03.942638",
     "status": "completed"
    },
    "tags": []
   },
   "outputs": [],
   "source": []
  }
 ],
 "metadata": {
  "kaggle": {
   "accelerator": "none",
   "dataSources": [
    {
     "datasetId": 20840,
     "sourceId": 26893,
     "sourceType": "datasetVersion"
    }
   ],
   "dockerImageVersionId": 30626,
   "isGpuEnabled": false,
   "isInternetEnabled": true,
   "language": "python",
   "sourceType": "notebook"
  },
  "kernelspec": {
   "display_name": "Python 3",
   "language": "python",
   "name": "python3"
  },
  "language_info": {
   "codemirror_mode": {
    "name": "ipython",
    "version": 3
   },
   "file_extension": ".py",
   "mimetype": "text/x-python",
   "name": "python",
   "nbconvert_exporter": "python",
   "pygments_lexer": "ipython3",
   "version": "3.10.12"
  },
  "papermill": {
   "default_parameters": {},
   "duration": 17.404659,
   "end_time": "2023-12-22T15:40:05.023751",
   "environment_variables": {},
   "exception": null,
   "input_path": "__notebook__.ipynb",
   "output_path": "__notebook__.ipynb",
   "parameters": {},
   "start_time": "2023-12-22T15:39:47.619092",
   "version": "2.4.0"
  }
 },
 "nbformat": 4,
 "nbformat_minor": 5
}

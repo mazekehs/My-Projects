{
 "cells": [
  {
   "cell_type": "markdown",
   "id": "8918da56",
   "metadata": {
    "papermill": {
     "duration": 0.014397,
     "end_time": "2023-12-30T12:07:27.225164",
     "exception": false,
     "start_time": "2023-12-30T12:07:27.210767",
     "status": "completed"
    },
    "tags": []
   },
   "source": [
    "# Importing the dependencies"
   ]
  },
  {
   "cell_type": "code",
   "execution_count": 1,
   "id": "6b082d5d",
   "metadata": {
    "_cell_guid": "b1076dfc-b9ad-4769-8c92-a6c4dae69d19",
    "_uuid": "8f2839f25d086af736a60e9eeb907d3b93b6e0e5",
    "execution": {
     "iopub.execute_input": "2023-12-30T12:07:27.256283Z",
     "iopub.status.busy": "2023-12-30T12:07:27.255266Z",
     "iopub.status.idle": "2023-12-30T12:07:29.818450Z",
     "shell.execute_reply": "2023-12-30T12:07:29.816928Z"
    },
    "papermill": {
     "duration": 2.582002,
     "end_time": "2023-12-30T12:07:29.821792",
     "exception": false,
     "start_time": "2023-12-30T12:07:27.239790",
     "status": "completed"
    },
    "tags": []
   },
   "outputs": [],
   "source": [
    "import numpy as np\n",
    "import pandas as pd\n",
    "import matplotlib.pyplot as plt\n",
    "import seaborn as sns\n",
    "from sklearn.model_selection import train_test_split\n",
    "from sklearn.linear_model import LinearRegression\n",
    "from sklearn import metrics\n",
    "import warnings\n",
    "warnings.filterwarnings('ignore')\n"
   ]
  },
  {
   "cell_type": "markdown",
   "id": "4dce8a35",
   "metadata": {
    "papermill": {
     "duration": 0.013051,
     "end_time": "2023-12-30T12:07:29.848447",
     "exception": false,
     "start_time": "2023-12-30T12:07:29.835396",
     "status": "completed"
    },
    "tags": []
   },
   "source": [
    "# Data Collection and Analysis"
   ]
  },
  {
   "cell_type": "code",
   "execution_count": 2,
   "id": "1ecd0993",
   "metadata": {
    "execution": {
     "iopub.execute_input": "2023-12-30T12:07:29.878499Z",
     "iopub.status.busy": "2023-12-30T12:07:29.877204Z",
     "iopub.status.idle": "2023-12-30T12:07:29.909418Z",
     "shell.execute_reply": "2023-12-30T12:07:29.908414Z"
    },
    "papermill": {
     "duration": 0.050021,
     "end_time": "2023-12-30T12:07:29.912025",
     "exception": false,
     "start_time": "2023-12-30T12:07:29.862004",
     "status": "completed"
    },
    "tags": []
   },
   "outputs": [],
   "source": [
    "#loading the dataset from csv to pandas dataframe\n",
    "insurance_dataset=pd.read_csv('/kaggle/input/insurance/insurance.csv')"
   ]
  },
  {
   "cell_type": "code",
   "execution_count": 3,
   "id": "8af25977",
   "metadata": {
    "execution": {
     "iopub.execute_input": "2023-12-30T12:07:29.942319Z",
     "iopub.status.busy": "2023-12-30T12:07:29.941051Z",
     "iopub.status.idle": "2023-12-30T12:07:29.969677Z",
     "shell.execute_reply": "2023-12-30T12:07:29.968373Z"
    },
    "papermill": {
     "duration": 0.046573,
     "end_time": "2023-12-30T12:07:29.972678",
     "exception": false,
     "start_time": "2023-12-30T12:07:29.926105",
     "status": "completed"
    },
    "tags": []
   },
   "outputs": [
    {
     "data": {
      "text/html": [
       "<div>\n",
       "<style scoped>\n",
       "    .dataframe tbody tr th:only-of-type {\n",
       "        vertical-align: middle;\n",
       "    }\n",
       "\n",
       "    .dataframe tbody tr th {\n",
       "        vertical-align: top;\n",
       "    }\n",
       "\n",
       "    .dataframe thead th {\n",
       "        text-align: right;\n",
       "    }\n",
       "</style>\n",
       "<table border=\"1\" class=\"dataframe\">\n",
       "  <thead>\n",
       "    <tr style=\"text-align: right;\">\n",
       "      <th></th>\n",
       "      <th>age</th>\n",
       "      <th>sex</th>\n",
       "      <th>bmi</th>\n",
       "      <th>children</th>\n",
       "      <th>smoker</th>\n",
       "      <th>region</th>\n",
       "      <th>charges</th>\n",
       "    </tr>\n",
       "  </thead>\n",
       "  <tbody>\n",
       "    <tr>\n",
       "      <th>0</th>\n",
       "      <td>19</td>\n",
       "      <td>female</td>\n",
       "      <td>27.900</td>\n",
       "      <td>0</td>\n",
       "      <td>yes</td>\n",
       "      <td>southwest</td>\n",
       "      <td>16884.92400</td>\n",
       "    </tr>\n",
       "    <tr>\n",
       "      <th>1</th>\n",
       "      <td>18</td>\n",
       "      <td>male</td>\n",
       "      <td>33.770</td>\n",
       "      <td>1</td>\n",
       "      <td>no</td>\n",
       "      <td>southeast</td>\n",
       "      <td>1725.55230</td>\n",
       "    </tr>\n",
       "    <tr>\n",
       "      <th>2</th>\n",
       "      <td>28</td>\n",
       "      <td>male</td>\n",
       "      <td>33.000</td>\n",
       "      <td>3</td>\n",
       "      <td>no</td>\n",
       "      <td>southeast</td>\n",
       "      <td>4449.46200</td>\n",
       "    </tr>\n",
       "    <tr>\n",
       "      <th>3</th>\n",
       "      <td>33</td>\n",
       "      <td>male</td>\n",
       "      <td>22.705</td>\n",
       "      <td>0</td>\n",
       "      <td>no</td>\n",
       "      <td>northwest</td>\n",
       "      <td>21984.47061</td>\n",
       "    </tr>\n",
       "    <tr>\n",
       "      <th>4</th>\n",
       "      <td>32</td>\n",
       "      <td>male</td>\n",
       "      <td>28.880</td>\n",
       "      <td>0</td>\n",
       "      <td>no</td>\n",
       "      <td>northwest</td>\n",
       "      <td>3866.85520</td>\n",
       "    </tr>\n",
       "  </tbody>\n",
       "</table>\n",
       "</div>"
      ],
      "text/plain": [
       "   age     sex     bmi  children smoker     region      charges\n",
       "0   19  female  27.900         0    yes  southwest  16884.92400\n",
       "1   18    male  33.770         1     no  southeast   1725.55230\n",
       "2   28    male  33.000         3     no  southeast   4449.46200\n",
       "3   33    male  22.705         0     no  northwest  21984.47061\n",
       "4   32    male  28.880         0     no  northwest   3866.85520"
      ]
     },
     "execution_count": 3,
     "metadata": {},
     "output_type": "execute_result"
    }
   ],
   "source": [
    "#first 5 rows of the dataframe\n",
    "\n",
    "insurance_dataset.head()"
   ]
  },
  {
   "cell_type": "code",
   "execution_count": 4,
   "id": "e4c0d28a",
   "metadata": {
    "execution": {
     "iopub.execute_input": "2023-12-30T12:07:30.004386Z",
     "iopub.status.busy": "2023-12-30T12:07:30.003778Z",
     "iopub.status.idle": "2023-12-30T12:07:30.019264Z",
     "shell.execute_reply": "2023-12-30T12:07:30.018045Z"
    },
    "papermill": {
     "duration": 0.034508,
     "end_time": "2023-12-30T12:07:30.021913",
     "exception": false,
     "start_time": "2023-12-30T12:07:29.987405",
     "status": "completed"
    },
    "tags": []
   },
   "outputs": [
    {
     "data": {
      "text/html": [
       "<div>\n",
       "<style scoped>\n",
       "    .dataframe tbody tr th:only-of-type {\n",
       "        vertical-align: middle;\n",
       "    }\n",
       "\n",
       "    .dataframe tbody tr th {\n",
       "        vertical-align: top;\n",
       "    }\n",
       "\n",
       "    .dataframe thead th {\n",
       "        text-align: right;\n",
       "    }\n",
       "</style>\n",
       "<table border=\"1\" class=\"dataframe\">\n",
       "  <thead>\n",
       "    <tr style=\"text-align: right;\">\n",
       "      <th></th>\n",
       "      <th>age</th>\n",
       "      <th>sex</th>\n",
       "      <th>bmi</th>\n",
       "      <th>children</th>\n",
       "      <th>smoker</th>\n",
       "      <th>region</th>\n",
       "      <th>charges</th>\n",
       "    </tr>\n",
       "  </thead>\n",
       "  <tbody>\n",
       "    <tr>\n",
       "      <th>1333</th>\n",
       "      <td>50</td>\n",
       "      <td>male</td>\n",
       "      <td>30.97</td>\n",
       "      <td>3</td>\n",
       "      <td>no</td>\n",
       "      <td>northwest</td>\n",
       "      <td>10600.5483</td>\n",
       "    </tr>\n",
       "    <tr>\n",
       "      <th>1334</th>\n",
       "      <td>18</td>\n",
       "      <td>female</td>\n",
       "      <td>31.92</td>\n",
       "      <td>0</td>\n",
       "      <td>no</td>\n",
       "      <td>northeast</td>\n",
       "      <td>2205.9808</td>\n",
       "    </tr>\n",
       "    <tr>\n",
       "      <th>1335</th>\n",
       "      <td>18</td>\n",
       "      <td>female</td>\n",
       "      <td>36.85</td>\n",
       "      <td>0</td>\n",
       "      <td>no</td>\n",
       "      <td>southeast</td>\n",
       "      <td>1629.8335</td>\n",
       "    </tr>\n",
       "    <tr>\n",
       "      <th>1336</th>\n",
       "      <td>21</td>\n",
       "      <td>female</td>\n",
       "      <td>25.80</td>\n",
       "      <td>0</td>\n",
       "      <td>no</td>\n",
       "      <td>southwest</td>\n",
       "      <td>2007.9450</td>\n",
       "    </tr>\n",
       "    <tr>\n",
       "      <th>1337</th>\n",
       "      <td>61</td>\n",
       "      <td>female</td>\n",
       "      <td>29.07</td>\n",
       "      <td>0</td>\n",
       "      <td>yes</td>\n",
       "      <td>northwest</td>\n",
       "      <td>29141.3603</td>\n",
       "    </tr>\n",
       "  </tbody>\n",
       "</table>\n",
       "</div>"
      ],
      "text/plain": [
       "      age     sex    bmi  children smoker     region     charges\n",
       "1333   50    male  30.97         3     no  northwest  10600.5483\n",
       "1334   18  female  31.92         0     no  northeast   2205.9808\n",
       "1335   18  female  36.85         0     no  southeast   1629.8335\n",
       "1336   21  female  25.80         0     no  southwest   2007.9450\n",
       "1337   61  female  29.07         0    yes  northwest  29141.3603"
      ]
     },
     "execution_count": 4,
     "metadata": {},
     "output_type": "execute_result"
    }
   ],
   "source": [
    "#last 5 rows of the dataframe\n",
    "\n",
    "insurance_dataset.tail()"
   ]
  },
  {
   "cell_type": "code",
   "execution_count": 5,
   "id": "7d006491",
   "metadata": {
    "execution": {
     "iopub.execute_input": "2023-12-30T12:07:30.054076Z",
     "iopub.status.busy": "2023-12-30T12:07:30.053667Z",
     "iopub.status.idle": "2023-12-30T12:07:30.061797Z",
     "shell.execute_reply": "2023-12-30T12:07:30.060635Z"
    },
    "papermill": {
     "duration": 0.027725,
     "end_time": "2023-12-30T12:07:30.064226",
     "exception": false,
     "start_time": "2023-12-30T12:07:30.036501",
     "status": "completed"
    },
    "tags": []
   },
   "outputs": [
    {
     "data": {
      "text/plain": [
       "(1338, 7)"
      ]
     },
     "execution_count": 5,
     "metadata": {},
     "output_type": "execute_result"
    }
   ],
   "source": [
    "#number of rows and column of the dataset\n",
    "\n",
    "insurance_dataset.shape"
   ]
  },
  {
   "cell_type": "code",
   "execution_count": 6,
   "id": "2463507a",
   "metadata": {
    "execution": {
     "iopub.execute_input": "2023-12-30T12:07:30.097909Z",
     "iopub.status.busy": "2023-12-30T12:07:30.096594Z",
     "iopub.status.idle": "2023-12-30T12:07:30.130788Z",
     "shell.execute_reply": "2023-12-30T12:07:30.129786Z"
    },
    "papermill": {
     "duration": 0.05371,
     "end_time": "2023-12-30T12:07:30.133355",
     "exception": false,
     "start_time": "2023-12-30T12:07:30.079645",
     "status": "completed"
    },
    "tags": []
   },
   "outputs": [
    {
     "name": "stdout",
     "output_type": "stream",
     "text": [
      "<class 'pandas.core.frame.DataFrame'>\n",
      "RangeIndex: 1338 entries, 0 to 1337\n",
      "Data columns (total 7 columns):\n",
      " #   Column    Non-Null Count  Dtype  \n",
      "---  ------    --------------  -----  \n",
      " 0   age       1338 non-null   int64  \n",
      " 1   sex       1338 non-null   object \n",
      " 2   bmi       1338 non-null   float64\n",
      " 3   children  1338 non-null   int64  \n",
      " 4   smoker    1338 non-null   object \n",
      " 5   region    1338 non-null   object \n",
      " 6   charges   1338 non-null   float64\n",
      "dtypes: float64(2), int64(2), object(3)\n",
      "memory usage: 73.3+ KB\n"
     ]
    }
   ],
   "source": [
    "#some more information about dataset\n",
    "\n",
    "insurance_dataset.info()"
   ]
  },
  {
   "cell_type": "markdown",
   "id": "a8972636",
   "metadata": {
    "papermill": {
     "duration": 0.014438,
     "end_time": "2023-12-30T12:07:30.163331",
     "exception": false,
     "start_time": "2023-12-30T12:07:30.148893",
     "status": "completed"
    },
    "tags": []
   },
   "source": [
    "**Categorical Features :**\n",
    "\n",
    "1. sex\n",
    "2. smoker\n",
    "3. region"
   ]
  },
  {
   "cell_type": "code",
   "execution_count": 7,
   "id": "f5afa91d",
   "metadata": {
    "execution": {
     "iopub.execute_input": "2023-12-30T12:07:30.195387Z",
     "iopub.status.busy": "2023-12-30T12:07:30.194309Z",
     "iopub.status.idle": "2023-12-30T12:07:30.204715Z",
     "shell.execute_reply": "2023-12-30T12:07:30.203469Z"
    },
    "papermill": {
     "duration": 0.029602,
     "end_time": "2023-12-30T12:07:30.207771",
     "exception": false,
     "start_time": "2023-12-30T12:07:30.178169",
     "status": "completed"
    },
    "tags": []
   },
   "outputs": [
    {
     "data": {
      "text/plain": [
       "age         0\n",
       "sex         0\n",
       "bmi         0\n",
       "children    0\n",
       "smoker      0\n",
       "region      0\n",
       "charges     0\n",
       "dtype: int64"
      ]
     },
     "execution_count": 7,
     "metadata": {},
     "output_type": "execute_result"
    }
   ],
   "source": [
    "#check for missing values\n",
    "\n",
    "insurance_dataset.isnull().sum()"
   ]
  },
  {
   "cell_type": "markdown",
   "id": "73ec3f8a",
   "metadata": {
    "papermill": {
     "duration": 0.014072,
     "end_time": "2023-12-30T12:07:30.236375",
     "exception": false,
     "start_time": "2023-12-30T12:07:30.222303",
     "status": "completed"
    },
    "tags": []
   },
   "source": [
    "# Data Analysis "
   ]
  },
  {
   "cell_type": "code",
   "execution_count": 8,
   "id": "26222bc0",
   "metadata": {
    "execution": {
     "iopub.execute_input": "2023-12-30T12:07:30.267488Z",
     "iopub.status.busy": "2023-12-30T12:07:30.267058Z",
     "iopub.status.idle": "2023-12-30T12:07:30.293618Z",
     "shell.execute_reply": "2023-12-30T12:07:30.292493Z"
    },
    "papermill": {
     "duration": 0.045407,
     "end_time": "2023-12-30T12:07:30.296669",
     "exception": false,
     "start_time": "2023-12-30T12:07:30.251262",
     "status": "completed"
    },
    "tags": []
   },
   "outputs": [
    {
     "data": {
      "text/html": [
       "<div>\n",
       "<style scoped>\n",
       "    .dataframe tbody tr th:only-of-type {\n",
       "        vertical-align: middle;\n",
       "    }\n",
       "\n",
       "    .dataframe tbody tr th {\n",
       "        vertical-align: top;\n",
       "    }\n",
       "\n",
       "    .dataframe thead th {\n",
       "        text-align: right;\n",
       "    }\n",
       "</style>\n",
       "<table border=\"1\" class=\"dataframe\">\n",
       "  <thead>\n",
       "    <tr style=\"text-align: right;\">\n",
       "      <th></th>\n",
       "      <th>age</th>\n",
       "      <th>bmi</th>\n",
       "      <th>children</th>\n",
       "      <th>charges</th>\n",
       "    </tr>\n",
       "  </thead>\n",
       "  <tbody>\n",
       "    <tr>\n",
       "      <th>count</th>\n",
       "      <td>1338.000000</td>\n",
       "      <td>1338.000000</td>\n",
       "      <td>1338.000000</td>\n",
       "      <td>1338.000000</td>\n",
       "    </tr>\n",
       "    <tr>\n",
       "      <th>mean</th>\n",
       "      <td>39.207025</td>\n",
       "      <td>30.663397</td>\n",
       "      <td>1.094918</td>\n",
       "      <td>13270.422265</td>\n",
       "    </tr>\n",
       "    <tr>\n",
       "      <th>std</th>\n",
       "      <td>14.049960</td>\n",
       "      <td>6.098187</td>\n",
       "      <td>1.205493</td>\n",
       "      <td>12110.011237</td>\n",
       "    </tr>\n",
       "    <tr>\n",
       "      <th>min</th>\n",
       "      <td>18.000000</td>\n",
       "      <td>15.960000</td>\n",
       "      <td>0.000000</td>\n",
       "      <td>1121.873900</td>\n",
       "    </tr>\n",
       "    <tr>\n",
       "      <th>25%</th>\n",
       "      <td>27.000000</td>\n",
       "      <td>26.296250</td>\n",
       "      <td>0.000000</td>\n",
       "      <td>4740.287150</td>\n",
       "    </tr>\n",
       "    <tr>\n",
       "      <th>50%</th>\n",
       "      <td>39.000000</td>\n",
       "      <td>30.400000</td>\n",
       "      <td>1.000000</td>\n",
       "      <td>9382.033000</td>\n",
       "    </tr>\n",
       "    <tr>\n",
       "      <th>75%</th>\n",
       "      <td>51.000000</td>\n",
       "      <td>34.693750</td>\n",
       "      <td>2.000000</td>\n",
       "      <td>16639.912515</td>\n",
       "    </tr>\n",
       "    <tr>\n",
       "      <th>max</th>\n",
       "      <td>64.000000</td>\n",
       "      <td>53.130000</td>\n",
       "      <td>5.000000</td>\n",
       "      <td>63770.428010</td>\n",
       "    </tr>\n",
       "  </tbody>\n",
       "</table>\n",
       "</div>"
      ],
      "text/plain": [
       "               age          bmi     children       charges\n",
       "count  1338.000000  1338.000000  1338.000000   1338.000000\n",
       "mean     39.207025    30.663397     1.094918  13270.422265\n",
       "std      14.049960     6.098187     1.205493  12110.011237\n",
       "min      18.000000    15.960000     0.000000   1121.873900\n",
       "25%      27.000000    26.296250     0.000000   4740.287150\n",
       "50%      39.000000    30.400000     1.000000   9382.033000\n",
       "75%      51.000000    34.693750     2.000000  16639.912515\n",
       "max      64.000000    53.130000     5.000000  63770.428010"
      ]
     },
     "execution_count": 8,
     "metadata": {},
     "output_type": "execute_result"
    }
   ],
   "source": [
    "#statistical Measures of the dataset\n",
    "\n",
    "insurance_dataset.describe()\n"
   ]
  },
  {
   "cell_type": "code",
   "execution_count": 9,
   "id": "13c30281",
   "metadata": {
    "execution": {
     "iopub.execute_input": "2023-12-30T12:07:30.329404Z",
     "iopub.status.busy": "2023-12-30T12:07:30.328991Z",
     "iopub.status.idle": "2023-12-30T12:07:30.901843Z",
     "shell.execute_reply": "2023-12-30T12:07:30.900588Z"
    },
    "papermill": {
     "duration": 0.59314,
     "end_time": "2023-12-30T12:07:30.904634",
     "exception": false,
     "start_time": "2023-12-30T12:07:30.311494",
     "status": "completed"
    },
    "tags": []
   },
   "outputs": [
    {
     "data": {
      "image/png": "[encoded data removed]",
      "text/plain": [
       "<Figure size 600x600 with 1 Axes>"
      ]
     },
     "metadata": {},
     "output_type": "display_data"
    }
   ],
   "source": [
    "#distribution of 'age' value\n",
    "\n",
    "sns.set()\n",
    "plt.figure(figsize=(6,6))\n",
    "sns.distplot(insurance_dataset['age'])\n",
    "plt.title('Age Distribution')\n",
    "plt.show()"
   ]
  },
  {
   "cell_type": "code",
   "execution_count": 10,
   "id": "230c0fee",
   "metadata": {
    "execution": {
     "iopub.execute_input": "2023-12-30T12:07:30.938170Z",
     "iopub.status.busy": "2023-12-30T12:07:30.937759Z",
     "iopub.status.idle": "2023-12-30T12:07:31.238744Z",
     "shell.execute_reply": "2023-12-30T12:07:31.237388Z"
    },
    "papermill": {
     "duration": 0.32051,
     "end_time": "2023-12-30T12:07:31.241399",
     "exception": false,
     "start_time": "2023-12-30T12:07:30.920889",
     "status": "completed"
    },
    "tags": []
   },
   "outputs": [
    {
     "data": {
      "image/png": "[encoded data removed]",
      "text/plain": [
       "<Figure size 600x600 with 1 Axes>"
      ]
     },
     "metadata": {},
     "output_type": "display_data"
    }
   ],
   "source": [
    "#gender column\n",
    "plt.figure(figsize=(6,6))\n",
    "sns.countplot(x='sex',data=insurance_dataset)\n",
    "plt.title('Sex Distribution')\n",
    "plt.show()"
   ]
  },
  {
   "cell_type": "code",
   "execution_count": 11,
   "id": "1df9438f",
   "metadata": {
    "execution": {
     "iopub.execute_input": "2023-12-30T12:07:31.275715Z",
     "iopub.status.busy": "2023-12-30T12:07:31.275257Z",
     "iopub.status.idle": "2023-12-30T12:07:31.285056Z",
     "shell.execute_reply": "2023-12-30T12:07:31.283670Z"
    },
    "papermill": {
     "duration": 0.030002,
     "end_time": "2023-12-30T12:07:31.287716",
     "exception": false,
     "start_time": "2023-12-30T12:07:31.257714",
     "status": "completed"
    },
    "tags": []
   },
   "outputs": [
    {
     "data": {
      "text/plain": [
       "sex\n",
       "male      676\n",
       "female    662\n",
       "Name: count, dtype: int64"
      ]
     },
     "execution_count": 11,
     "metadata": {},
     "output_type": "execute_result"
    }
   ],
   "source": [
    "insurance_dataset['sex'].value_counts()"
   ]
  },
  {
   "cell_type": "code",
   "execution_count": 12,
   "id": "dd3bcd79",
   "metadata": {
    "execution": {
     "iopub.execute_input": "2023-12-30T12:07:31.388662Z",
     "iopub.status.busy": "2023-12-30T12:07:31.388222Z",
     "iopub.status.idle": "2023-12-30T12:07:31.893854Z",
     "shell.execute_reply": "2023-12-30T12:07:31.892865Z"
    },
    "papermill": {
     "duration": 0.526506,
     "end_time": "2023-12-30T12:07:31.896995",
     "exception": false,
     "start_time": "2023-12-30T12:07:31.370489",
     "status": "completed"
    },
    "tags": []
   },
   "outputs": [
    {
     "data": {
      "image/png": "[encoded data removed]",
      "text/plain": [
       "<Figure size 600x600 with 1 Axes>"
      ]
     },
     "metadata": {},
     "output_type": "display_data"
    }
   ],
   "source": [
    "#BMI Distribution\n",
    "sns.set()\n",
    "plt.figure(figsize=(6,6))\n",
    "sns.distplot(insurance_dataset['bmi'])\n",
    "plt.title('Age Distribution')\n",
    "plt.show()"
   ]
  },
  {
   "cell_type": "markdown",
   "id": "9f0c38ea",
   "metadata": {
    "papermill": {
     "duration": 0.017194,
     "end_time": "2023-12-30T12:07:31.932603",
     "exception": false,
     "start_time": "2023-12-30T12:07:31.915409",
     "status": "completed"
    },
    "tags": []
   },
   "source": [
    "**Normal BMI Range -> 18.5 to 24.9**\n",
    "\n",
    "\n",
    "* greater than 24.9 -> Overweight*\n",
    "\n",
    "* less than18.5 -> Underweight*"
   ]
  },
  {
   "cell_type": "code",
   "execution_count": 13,
   "id": "0c0bf66b",
   "metadata": {
    "execution": {
     "iopub.execute_input": "2023-12-30T12:07:31.970901Z",
     "iopub.status.busy": "2023-12-30T12:07:31.970483Z",
     "iopub.status.idle": "2023-12-30T12:07:32.321909Z",
     "shell.execute_reply": "2023-12-30T12:07:32.320584Z"
    },
    "papermill": {
     "duration": 0.373939,
     "end_time": "2023-12-30T12:07:32.324895",
     "exception": false,
     "start_time": "2023-12-30T12:07:31.950956",
     "status": "completed"
    },
    "tags": []
   },
   "outputs": [
    {
     "data": {
      "image/png": "[encoded data removed]",
      "text/plain": [
       "<Figure size 600x600 with 1 Axes>"
      ]
     },
     "metadata": {},
     "output_type": "display_data"
    }
   ],
   "source": [
    "# children column\n",
    "plt.figure(figsize=(6,6))\n",
    "sns.countplot(x='children',data=insurance_dataset)\n",
    "plt.title('Children')\n",
    "plt.show()"
   ]
  },
  {
   "cell_type": "code",
   "execution_count": 14,
   "id": "64c9e5cf",
   "metadata": {
    "execution": {
     "iopub.execute_input": "2023-12-30T12:07:32.362956Z",
     "iopub.status.busy": "2023-12-30T12:07:32.362499Z",
     "iopub.status.idle": "2023-12-30T12:07:32.371914Z",
     "shell.execute_reply": "2023-12-30T12:07:32.370633Z"
    },
    "papermill": {
     "duration": 0.031376,
     "end_time": "2023-12-30T12:07:32.374370",
     "exception": false,
     "start_time": "2023-12-30T12:07:32.342994",
     "status": "completed"
    },
    "tags": []
   },
   "outputs": [
    {
     "data": {
      "text/plain": [
       "children\n",
       "0    574\n",
       "1    324\n",
       "2    240\n",
       "3    157\n",
       "4     25\n",
       "5     18\n",
       "Name: count, dtype: int64"
      ]
     },
     "execution_count": 14,
     "metadata": {},
     "output_type": "execute_result"
    }
   ],
   "source": [
    "insurance_dataset['children'].value_counts()"
   ]
  },
  {
   "cell_type": "code",
   "execution_count": 15,
   "id": "c86ef788",
   "metadata": {
    "execution": {
     "iopub.execute_input": "2023-12-30T12:07:32.412197Z",
     "iopub.status.busy": "2023-12-30T12:07:32.411750Z",
     "iopub.status.idle": "2023-12-30T12:07:32.708985Z",
     "shell.execute_reply": "2023-12-30T12:07:32.707736Z"
    },
    "papermill": {
     "duration": 0.319041,
     "end_time": "2023-12-30T12:07:32.711835",
     "exception": false,
     "start_time": "2023-12-30T12:07:32.392794",
     "status": "completed"
    },
    "tags": []
   },
   "outputs": [
    {
     "data": {
      "image/png": "[encoded data removed]",
      "text/plain": [
       "<Figure size 600x600 with 1 Axes>"
      ]
     },
     "metadata": {},
     "output_type": "display_data"
    }
   ],
   "source": [
    "# smoker column\n",
    "plt.figure(figsize=(6,6))\n",
    "sns.countplot(x='smoker',data=insurance_dataset)\n",
    "plt.title('Smoker')\n",
    "plt.show()"
   ]
  },
  {
   "cell_type": "code",
   "execution_count": 16,
   "id": "55e31927",
   "metadata": {
    "execution": {
     "iopub.execute_input": "2023-12-30T12:07:32.757642Z",
     "iopub.status.busy": "2023-12-30T12:07:32.755263Z",
     "iopub.status.idle": "2023-12-30T12:07:32.766765Z",
     "shell.execute_reply": "2023-12-30T12:07:32.765374Z"
    },
    "papermill": {
     "duration": 0.035289,
     "end_time": "2023-12-30T12:07:32.769887",
     "exception": false,
     "start_time": "2023-12-30T12:07:32.734598",
     "status": "completed"
    },
    "tags": []
   },
   "outputs": [
    {
     "data": {
      "text/plain": [
       "smoker\n",
       "no     1064\n",
       "yes     274\n",
       "Name: count, dtype: int64"
      ]
     },
     "execution_count": 16,
     "metadata": {},
     "output_type": "execute_result"
    }
   ],
   "source": [
    "insurance_dataset['smoker'].value_counts()"
   ]
  },
  {
   "cell_type": "code",
   "execution_count": 17,
   "id": "472175e8",
   "metadata": {
    "execution": {
     "iopub.execute_input": "2023-12-30T12:07:32.810000Z",
     "iopub.status.busy": "2023-12-30T12:07:32.809016Z",
     "iopub.status.idle": "2023-12-30T12:07:33.151180Z",
     "shell.execute_reply": "2023-12-30T12:07:33.149734Z"
    },
    "papermill": {
     "duration": 0.3645,
     "end_time": "2023-12-30T12:07:33.154227",
     "exception": false,
     "start_time": "2023-12-30T12:07:32.789727",
     "status": "completed"
    },
    "tags": []
   },
   "outputs": [
    {
     "data": {
      "image/png": "[encoded data removed]",
      "text/plain": [
       "<Figure size 600x600 with 1 Axes>"
      ]
     },
     "metadata": {},
     "output_type": "display_data"
    }
   ],
   "source": [
    "#region column\n",
    "\n",
    "plt.figure(figsize=(6,6))\n",
    "sns.countplot(x='region',data=insurance_dataset)\n",
    "plt.title('Region')\n",
    "plt.show()"
   ]
  },
  {
   "cell_type": "code",
   "execution_count": 18,
   "id": "2f216ef5",
   "metadata": {
    "execution": {
     "iopub.execute_input": "2023-12-30T12:07:33.193430Z",
     "iopub.status.busy": "2023-12-30T12:07:33.192990Z",
     "iopub.status.idle": "2023-12-30T12:07:33.203282Z",
     "shell.execute_reply": "2023-12-30T12:07:33.201778Z"
    },
    "papermill": {
     "duration": 0.032962,
     "end_time": "2023-12-30T12:07:33.206063",
     "exception": false,
     "start_time": "2023-12-30T12:07:33.173101",
     "status": "completed"
    },
    "tags": []
   },
   "outputs": [
    {
     "data": {
      "text/plain": [
       "region\n",
       "southeast    364\n",
       "southwest    325\n",
       "northwest    325\n",
       "northeast    324\n",
       "Name: count, dtype: int64"
      ]
     },
     "execution_count": 18,
     "metadata": {},
     "output_type": "execute_result"
    }
   ],
   "source": [
    "insurance_dataset['region'].value_counts()"
   ]
  },
  {
   "cell_type": "code",
   "execution_count": 19,
   "id": "9b41b6c8",
   "metadata": {
    "execution": {
     "iopub.execute_input": "2023-12-30T12:07:33.245733Z",
     "iopub.status.busy": "2023-12-30T12:07:33.245251Z",
     "iopub.status.idle": "2023-12-30T12:07:33.803044Z",
     "shell.execute_reply": "2023-12-30T12:07:33.801759Z"
    },
    "papermill": {
     "duration": 0.580593,
     "end_time": "2023-12-30T12:07:33.805859",
     "exception": false,
     "start_time": "2023-12-30T12:07:33.225266",
     "status": "completed"
    },
    "tags": []
   },
   "outputs": [
    {
     "data": {
      "image/png": "[encoded data removed]",
      "text/plain": [
       "<Figure size 600x600 with 1 Axes>"
      ]
     },
     "metadata": {},
     "output_type": "display_data"
    }
   ],
   "source": [
    "#distribution of 'charges' value\n",
    "\n",
    "sns.set()\n",
    "plt.figure(figsize=(6,6))\n",
    "sns.distplot(insurance_dataset['charges'])\n",
    "plt.title('Charge Distribution')\n",
    "plt.show()"
   ]
  },
  {
   "cell_type": "markdown",
   "id": "09298c5c",
   "metadata": {
    "papermill": {
     "duration": 0.019444,
     "end_time": "2023-12-30T12:07:33.845445",
     "exception": false,
     "start_time": "2023-12-30T12:07:33.826001",
     "status": "completed"
    },
    "tags": []
   },
   "source": [
    "# Data Preprocessing"
   ]
  },
  {
   "cell_type": "markdown",
   "id": "14c7a4f2",
   "metadata": {
    "papermill": {
     "duration": 0.01897,
     "end_time": "2023-12-30T12:07:33.883462",
     "exception": false,
     "start_time": "2023-12-30T12:07:33.864492",
     "status": "completed"
    },
    "tags": []
   },
   "source": [
    "**Encoding the categorical features**"
   ]
  },
  {
   "cell_type": "code",
   "execution_count": 20,
   "id": "a311f1f6",
   "metadata": {
    "execution": {
     "iopub.execute_input": "2023-12-30T12:07:33.926230Z",
     "iopub.status.busy": "2023-12-30T12:07:33.925495Z",
     "iopub.status.idle": "2023-12-30T12:07:33.939366Z",
     "shell.execute_reply": "2023-12-30T12:07:33.938125Z"
    },
    "papermill": {
     "duration": 0.039215,
     "end_time": "2023-12-30T12:07:33.942387",
     "exception": false,
     "start_time": "2023-12-30T12:07:33.903172",
     "status": "completed"
    },
    "tags": []
   },
   "outputs": [],
   "source": [
    "#encoding 'sex' column\n",
    "\n",
    "insurance_dataset.replace({'sex':{'male':0,'female':1}},inplace=True)\n",
    "\n",
    "#encoding 'smoker' column\n",
    "\n",
    "insurance_dataset.replace({'smoker':{'yes':0,'no':1}},inplace=True)\n",
    "\n",
    "#encoding 'region' column\n",
    "\n",
    "insurance_dataset.replace({'region':{'southeast':0,'southwest':1,'northeast':2,'northwest':3}},inplace=True)\n",
    "\n",
    "\n",
    "\n"
   ]
  },
  {
   "cell_type": "code",
   "execution_count": 21,
   "id": "d9939152",
   "metadata": {
    "execution": {
     "iopub.execute_input": "2023-12-30T12:07:33.983749Z",
     "iopub.status.busy": "2023-12-30T12:07:33.982875Z",
     "iopub.status.idle": "2023-12-30T12:07:33.995813Z",
     "shell.execute_reply": "2023-12-30T12:07:33.994553Z"
    },
    "papermill": {
     "duration": 0.037069,
     "end_time": "2023-12-30T12:07:33.998664",
     "exception": false,
     "start_time": "2023-12-30T12:07:33.961595",
     "status": "completed"
    },
    "tags": []
   },
   "outputs": [
    {
     "name": "stdout",
     "output_type": "stream",
     "text": [
      "      age  sex     bmi  children  smoker  region      charges\n",
      "0      19    1  27.900         0       0       1  16884.92400\n",
      "1      18    0  33.770         1       1       0   1725.55230\n",
      "2      28    0  33.000         3       1       0   4449.46200\n",
      "3      33    0  22.705         0       1       3  21984.47061\n",
      "4      32    0  28.880         0       1       3   3866.85520\n",
      "...   ...  ...     ...       ...     ...     ...          ...\n",
      "1333   50    0  30.970         3       1       3  10600.54830\n",
      "1334   18    1  31.920         0       1       2   2205.98080\n",
      "1335   18    1  36.850         0       1       0   1629.83350\n",
      "1336   21    1  25.800         0       1       1   2007.94500\n",
      "1337   61    1  29.070         0       0       3  29141.36030\n",
      "\n",
      "[1338 rows x 7 columns]\n"
     ]
    }
   ],
   "source": [
    "print(insurance_dataset)"
   ]
  },
  {
   "cell_type": "markdown",
   "id": "31054ebe",
   "metadata": {
    "papermill": {
     "duration": 0.019019,
     "end_time": "2023-12-30T12:07:34.037070",
     "exception": false,
     "start_time": "2023-12-30T12:07:34.018051",
     "status": "completed"
    },
    "tags": []
   },
   "source": [
    "# Splitting the Features and Target"
   ]
  },
  {
   "cell_type": "code",
   "execution_count": 22,
   "id": "ea51e52b",
   "metadata": {
    "execution": {
     "iopub.execute_input": "2023-12-30T12:07:34.077442Z",
     "iopub.status.busy": "2023-12-30T12:07:34.077047Z",
     "iopub.status.idle": "2023-12-30T12:07:34.083440Z",
     "shell.execute_reply": "2023-12-30T12:07:34.082265Z"
    },
    "papermill": {
     "duration": 0.02958,
     "end_time": "2023-12-30T12:07:34.085953",
     "exception": false,
     "start_time": "2023-12-30T12:07:34.056373",
     "status": "completed"
    },
    "tags": []
   },
   "outputs": [],
   "source": [
    "X=insurance_dataset.drop(columns='charges',axis=1)\n",
    "Y=insurance_dataset['charges']"
   ]
  },
  {
   "cell_type": "code",
   "execution_count": 23,
   "id": "2c73e71f",
   "metadata": {
    "execution": {
     "iopub.execute_input": "2023-12-30T12:07:34.126267Z",
     "iopub.status.busy": "2023-12-30T12:07:34.125688Z",
     "iopub.status.idle": "2023-12-30T12:07:34.137595Z",
     "shell.execute_reply": "2023-12-30T12:07:34.136156Z"
    },
    "papermill": {
     "duration": 0.03531,
     "end_time": "2023-12-30T12:07:34.140553",
     "exception": false,
     "start_time": "2023-12-30T12:07:34.105243",
     "status": "completed"
    },
    "tags": []
   },
   "outputs": [
    {
     "name": "stdout",
     "output_type": "stream",
     "text": [
      "      age  sex     bmi  children  smoker  region\n",
      "0      19    1  27.900         0       0       1\n",
      "1      18    0  33.770         1       1       0\n",
      "2      28    0  33.000         3       1       0\n",
      "3      33    0  22.705         0       1       3\n",
      "4      32    0  28.880         0       1       3\n",
      "...   ...  ...     ...       ...     ...     ...\n",
      "1333   50    0  30.970         3       1       3\n",
      "1334   18    1  31.920         0       1       2\n",
      "1335   18    1  36.850         0       1       0\n",
      "1336   21    1  25.800         0       1       1\n",
      "1337   61    1  29.070         0       0       3\n",
      "\n",
      "[1338 rows x 6 columns]\n"
     ]
    }
   ],
   "source": [
    "print(X)"
   ]
  },
  {
   "cell_type": "code",
   "execution_count": 24,
   "id": "74da7241",
   "metadata": {
    "execution": {
     "iopub.execute_input": "2023-12-30T12:07:34.182163Z",
     "iopub.status.busy": "2023-12-30T12:07:34.181705Z",
     "iopub.status.idle": "2023-12-30T12:07:34.190610Z",
     "shell.execute_reply": "2023-12-30T12:07:34.189294Z"
    },
    "papermill": {
     "duration": 0.032927,
     "end_time": "2023-12-30T12:07:34.193410",
     "exception": false,
     "start_time": "2023-12-30T12:07:34.160483",
     "status": "completed"
    },
    "tags": []
   },
   "outputs": [
    {
     "name": "stdout",
     "output_type": "stream",
     "text": [
      "0       16884.92400\n",
      "1        1725.55230\n",
      "2        4449.46200\n",
      "3       21984.47061\n",
      "4        3866.85520\n",
      "           ...     \n",
      "1333    10600.54830\n",
      "1334     2205.98080\n",
      "1335     1629.83350\n",
      "1336     2007.94500\n",
      "1337    29141.36030\n",
      "Name: charges, Length: 1338, dtype: float64\n"
     ]
    }
   ],
   "source": [
    "print(Y)"
   ]
  },
  {
   "cell_type": "code",
   "execution_count": 25,
   "id": "1a1c87db",
   "metadata": {
    "execution": {
     "iopub.execute_input": "2023-12-30T12:07:34.234858Z",
     "iopub.status.busy": "2023-12-30T12:07:34.234359Z",
     "iopub.status.idle": "2023-12-30T12:07:34.242114Z",
     "shell.execute_reply": "2023-12-30T12:07:34.241101Z"
    },
    "papermill": {
     "duration": 0.031635,
     "end_time": "2023-12-30T12:07:34.244906",
     "exception": false,
     "start_time": "2023-12-30T12:07:34.213271",
     "status": "completed"
    },
    "tags": []
   },
   "outputs": [],
   "source": [
    "#Splitting the training and testing data\n",
    "\n",
    "X_train,X_test,Y_train,Y_test=train_test_split(X, Y, test_size=0.2, random_state=2)"
   ]
  },
  {
   "cell_type": "code",
   "execution_count": 26,
   "id": "707aedf3",
   "metadata": {
    "execution": {
     "iopub.execute_input": "2023-12-30T12:07:34.286792Z",
     "iopub.status.busy": "2023-12-30T12:07:34.286375Z",
     "iopub.status.idle": "2023-12-30T12:07:34.291798Z",
     "shell.execute_reply": "2023-12-30T12:07:34.290448Z"
    },
    "papermill": {
     "duration": 0.029464,
     "end_time": "2023-12-30T12:07:34.294339",
     "exception": false,
     "start_time": "2023-12-30T12:07:34.264875",
     "status": "completed"
    },
    "tags": []
   },
   "outputs": [
    {
     "name": "stdout",
     "output_type": "stream",
     "text": [
      "(1338, 6) (1070, 6) (268, 6)\n"
     ]
    }
   ],
   "source": [
    "print(X.shape,X_train.shape,X_test.shape)"
   ]
  },
  {
   "cell_type": "code",
   "execution_count": 27,
   "id": "e1fbd708",
   "metadata": {
    "execution": {
     "iopub.execute_input": "2023-12-30T12:07:34.336040Z",
     "iopub.status.busy": "2023-12-30T12:07:34.335601Z",
     "iopub.status.idle": "2023-12-30T12:07:34.341749Z",
     "shell.execute_reply": "2023-12-30T12:07:34.340593Z"
    },
    "papermill": {
     "duration": 0.030023,
     "end_time": "2023-12-30T12:07:34.344321",
     "exception": false,
     "start_time": "2023-12-30T12:07:34.314298",
     "status": "completed"
    },
    "tags": []
   },
   "outputs": [
    {
     "name": "stdout",
     "output_type": "stream",
     "text": [
      "(1338,) (1070,) (268,)\n"
     ]
    }
   ],
   "source": [
    "print(Y.shape,Y_train.shape,Y_test.shape)"
   ]
  },
  {
   "cell_type": "markdown",
   "id": "6b999d7f",
   "metadata": {
    "papermill": {
     "duration": 0.019342,
     "end_time": "2023-12-30T12:07:34.383323",
     "exception": false,
     "start_time": "2023-12-30T12:07:34.363981",
     "status": "completed"
    },
    "tags": []
   },
   "source": [
    "**Model Training :**\n",
    "\n",
    "***Linear Regression***"
   ]
  },
  {
   "cell_type": "code",
   "execution_count": 28,
   "id": "b67a991c",
   "metadata": {
    "execution": {
     "iopub.execute_input": "2023-12-30T12:07:34.425269Z",
     "iopub.status.busy": "2023-12-30T12:07:34.424439Z",
     "iopub.status.idle": "2023-12-30T12:07:34.429871Z",
     "shell.execute_reply": "2023-12-30T12:07:34.428613Z"
    },
    "papermill": {
     "duration": 0.028932,
     "end_time": "2023-12-30T12:07:34.432390",
     "exception": false,
     "start_time": "2023-12-30T12:07:34.403458",
     "status": "completed"
    },
    "tags": []
   },
   "outputs": [],
   "source": [
    "#Loading the Linear Regression Model\n",
    "\n",
    "regressor=LinearRegression()"
   ]
  },
  {
   "cell_type": "code",
   "execution_count": 29,
   "id": "07a00891",
   "metadata": {
    "execution": {
     "iopub.execute_input": "2023-12-30T12:07:34.474669Z",
     "iopub.status.busy": "2023-12-30T12:07:34.474217Z",
     "iopub.status.idle": "2023-12-30T12:07:34.505194Z",
     "shell.execute_reply": "2023-12-30T12:07:34.503963Z"
    },
    "papermill": {
     "duration": 0.055175,
     "end_time": "2023-12-30T12:07:34.507782",
     "exception": false,
     "start_time": "2023-12-30T12:07:34.452607",
     "status": "completed"
    },
    "tags": []
   },
   "outputs": [
    {
     "data": {
      "text/html": [
       "<style>#sk-container-id-1 {color: black;background-color: white;}#sk-container-id-1 pre{padding: 0;}#sk-container-id-1 div.sk-toggleable {background-color: white;}#sk-container-id-1 label.sk-toggleable__label {cursor: pointer;display: block;width: 100%;margin-bottom: 0;padding: 0.3em;box-sizing: border-box;text-align: center;}#sk-container-id-1 label.sk-toggleable__label-arrow:before {content: \"▸\";float: left;margin-right: 0.25em;color: #696969;}#sk-container-id-1 label.sk-toggleable__label-arrow:hover:before {color: black;}#sk-container-id-1 div.sk-estimator:hover label.sk-toggleable__label-arrow:before {color: black;}#sk-container-id-1 div.sk-toggleable__content {max-height: 0;max-width: 0;overflow: hidden;text-align: left;background-color: #f0f8ff;}#sk-container-id-1 div.sk-toggleable__content pre {margin: 0.2em;color: black;border-radius: 0.25em;background-color: #f0f8ff;}#sk-container-id-1 input.sk-toggleable__control:checked~div.sk-toggleable__content {max-height: 200px;max-width: 100%;overflow: auto;}#sk-container-id-1 input.sk-toggleable__control:checked~label.sk-toggleable__label-arrow:before {content: \"▾\";}#sk-container-id-1 div.sk-estimator input.sk-toggleable__control:checked~label.sk-toggleable__label {background-color: #d4ebff;}#sk-container-id-1 div.sk-label input.sk-toggleable__control:checked~label.sk-toggleable__label {background-color: #d4ebff;}#sk-container-id-1 input.sk-hidden--visually {border: 0;clip: rect(1px 1px 1px 1px);clip: rect(1px, 1px, 1px, 1px);height: 1px;margin: -1px;overflow: hidden;padding: 0;position: absolute;width: 1px;}#sk-container-id-1 div.sk-estimator {font-family: monospace;background-color: #f0f8ff;border: 1px dotted black;border-radius: 0.25em;box-sizing: border-box;margin-bottom: 0.5em;}#sk-container-id-1 div.sk-estimator:hover {background-color: #d4ebff;}#sk-container-id-1 div.sk-parallel-item::after {content: \"\";width: 100%;border-bottom: 1px solid gray;flex-grow: 1;}#sk-container-id-1 div.sk-label:hover label.sk-toggleable__label {background-color: #d4ebff;}#sk-container-id-1 div.sk-serial::before {content: \"\";position: absolute;border-left: 1px solid gray;box-sizing: border-box;top: 0;bottom: 0;left: 50%;z-index: 0;}#sk-container-id-1 div.sk-serial {display: flex;flex-direction: column;align-items: center;background-color: white;padding-right: 0.2em;padding-left: 0.2em;position: relative;}#sk-container-id-1 div.sk-item {position: relative;z-index: 1;}#sk-container-id-1 div.sk-parallel {display: flex;align-items: stretch;justify-content: center;background-color: white;position: relative;}#sk-container-id-1 div.sk-item::before, #sk-container-id-1 div.sk-parallel-item::before {content: \"\";position: absolute;border-left: 1px solid gray;box-sizing: border-box;top: 0;bottom: 0;left: 50%;z-index: -1;}#sk-container-id-1 div.sk-parallel-item {display: flex;flex-direction: column;z-index: 1;position: relative;background-color: white;}#sk-container-id-1 div.sk-parallel-item:first-child::after {align-self: flex-end;width: 50%;}#sk-container-id-1 div.sk-parallel-item:last-child::after {align-self: flex-start;width: 50%;}#sk-container-id-1 div.sk-parallel-item:only-child::after {width: 0;}#sk-container-id-1 div.sk-dashed-wrapped {border: 1px dashed gray;margin: 0 0.4em 0.5em 0.4em;box-sizing: border-box;padding-bottom: 0.4em;background-color: white;}#sk-container-id-1 div.sk-label label {font-family: monospace;font-weight: bold;display: inline-block;line-height: 1.2em;}#sk-container-id-1 div.sk-label-container {text-align: center;}#sk-container-id-1 div.sk-container {/* jupyter's `normalize.less` sets `[hidden] { display: none; }` but bootstrap.min.css set `[hidden] { display: none !important; }` so we also need the `!important` here to be able to override the default hidden behavior on the sphinx rendered scikit-learn.org. See: https://github.com/scikit-learn/scikit-learn/issues/21755 */display: inline-block !important;position: relative;}#sk-container-id-1 div.sk-text-repr-fallback {display: none;}</style><div id=\"sk-container-id-1\" class=\"sk-top-container\"><div class=\"sk-text-repr-fallback\"><pre>LinearRegression()</pre><b>In a Jupyter environment, please rerun this cell to show the HTML representation or trust the notebook. <br />On GitHub, the HTML representation is unable to render, please try loading this page with nbviewer.org.</b></div><div class=\"sk-container\" hidden><div class=\"sk-item\"><div class=\"sk-estimator sk-toggleable\"><input class=\"sk-toggleable__control sk-hidden--visually\" id=\"sk-estimator-id-1\" type=\"checkbox\" checked><label for=\"sk-estimator-id-1\" class=\"sk-toggleable__label sk-toggleable__label-arrow\">LinearRegression</label><div class=\"sk-toggleable__content\"><pre>LinearRegression()</pre></div></div></div></div></div>"
      ],
      "text/plain": [
       "LinearRegression()"
      ]
     },
     "execution_count": 29,
     "metadata": {},
     "output_type": "execute_result"
    }
   ],
   "source": [
    "regressor.fit(X_train,Y_train)"
   ]
  },
  {
   "cell_type": "markdown",
   "id": "9a206e68",
   "metadata": {
    "papermill": {
     "duration": 0.020223,
     "end_time": "2023-12-30T12:07:34.548253",
     "exception": false,
     "start_time": "2023-12-30T12:07:34.528030",
     "status": "completed"
    },
    "tags": []
   },
   "source": [
    "**Model Evaluation**"
   ]
  },
  {
   "cell_type": "code",
   "execution_count": 30,
   "id": "ffb242f5",
   "metadata": {
    "execution": {
     "iopub.execute_input": "2023-12-30T12:07:34.592820Z",
     "iopub.status.busy": "2023-12-30T12:07:34.592263Z",
     "iopub.status.idle": "2023-12-30T12:07:34.599863Z",
     "shell.execute_reply": "2023-12-30T12:07:34.598607Z"
    },
    "papermill": {
     "duration": 0.033074,
     "end_time": "2023-12-30T12:07:34.602322",
     "exception": false,
     "start_time": "2023-12-30T12:07:34.569248",
     "status": "completed"
    },
    "tags": []
   },
   "outputs": [],
   "source": [
    "#prediction on training data\n",
    "\n",
    "training_data_prediction=regressor.predict(X_train)"
   ]
  },
  {
   "cell_type": "code",
   "execution_count": 31,
   "id": "fb52253f",
   "metadata": {
    "execution": {
     "iopub.execute_input": "2023-12-30T12:07:34.646886Z",
     "iopub.status.busy": "2023-12-30T12:07:34.646366Z",
     "iopub.status.idle": "2023-12-30T12:07:34.654328Z",
     "shell.execute_reply": "2023-12-30T12:07:34.653053Z"
    },
    "papermill": {
     "duration": 0.032197,
     "end_time": "2023-12-30T12:07:34.657129",
     "exception": false,
     "start_time": "2023-12-30T12:07:34.624932",
     "status": "completed"
    },
    "tags": []
   },
   "outputs": [
    {
     "name": "stdout",
     "output_type": "stream",
     "text": [
      "R-squared value 0.751505643411174\n"
     ]
    }
   ],
   "source": [
    "# R squared value for training data\n",
    "r2_train=metrics.r2_score(Y_train,training_data_prediction)\n",
    "print(\"R-squared value\",r2_train)"
   ]
  },
  {
   "cell_type": "code",
   "execution_count": 32,
   "id": "9f0b75d9",
   "metadata": {
    "execution": {
     "iopub.execute_input": "2023-12-30T12:07:34.699361Z",
     "iopub.status.busy": "2023-12-30T12:07:34.698951Z",
     "iopub.status.idle": "2023-12-30T12:07:34.706287Z",
     "shell.execute_reply": "2023-12-30T12:07:34.705100Z"
    },
    "papermill": {
     "duration": 0.031498,
     "end_time": "2023-12-30T12:07:34.708795",
     "exception": false,
     "start_time": "2023-12-30T12:07:34.677297",
     "status": "completed"
    },
    "tags": []
   },
   "outputs": [],
   "source": [
    "#prediction on training data\n",
    "\n",
    "testing_data_prediction=regressor.predict(X_test)"
   ]
  },
  {
   "cell_type": "code",
   "execution_count": 33,
   "id": "d5a6e434",
   "metadata": {
    "execution": {
     "iopub.execute_input": "2023-12-30T12:07:34.750839Z",
     "iopub.status.busy": "2023-12-30T12:07:34.750407Z",
     "iopub.status.idle": "2023-12-30T12:07:34.757335Z",
     "shell.execute_reply": "2023-12-30T12:07:34.756317Z"
    },
    "papermill": {
     "duration": 0.031632,
     "end_time": "2023-12-30T12:07:34.760536",
     "exception": false,
     "start_time": "2023-12-30T12:07:34.728904",
     "status": "completed"
    },
    "tags": []
   },
   "outputs": [
    {
     "name": "stdout",
     "output_type": "stream",
     "text": [
      "R-squared value 0.7447273869684076\n"
     ]
    }
   ],
   "source": [
    "# R squared value for testing data\n",
    "r2_test=metrics.r2_score(Y_test,testing_data_prediction)\n",
    "print(\"R-squared value\",r2_test)"
   ]
  },
  {
   "cell_type": "markdown",
   "id": "8a717628",
   "metadata": {
    "papermill": {
     "duration": 0.019931,
     "end_time": "2023-12-30T12:07:34.801154",
     "exception": false,
     "start_time": "2023-12-30T12:07:34.781223",
     "status": "completed"
    },
    "tags": []
   },
   "source": [
    "# Building a predictive system"
   ]
  },
  {
   "cell_type": "code",
   "execution_count": 34,
   "id": "2538ced7",
   "metadata": {
    "execution": {
     "iopub.execute_input": "2023-12-30T12:07:34.844009Z",
     "iopub.status.busy": "2023-12-30T12:07:34.843512Z",
     "iopub.status.idle": "2023-12-30T12:07:34.852159Z",
     "shell.execute_reply": "2023-12-30T12:07:34.850416Z"
    },
    "papermill": {
     "duration": 0.033097,
     "end_time": "2023-12-30T12:07:34.854813",
     "exception": false,
     "start_time": "2023-12-30T12:07:34.821716",
     "status": "completed"
    },
    "tags": []
   },
   "outputs": [
    {
     "name": "stdout",
     "output_type": "stream",
     "text": [
      "[3760.0805765]\n",
      "The insurance cost is USD 3760.080576496057\n"
     ]
    }
   ],
   "source": [
    "input_data=(31,1,25.74,0,1,0)\n",
    "\n",
    "#changing input_data to a numpy array\n",
    "input_data_array=np.asarray(input_data)\n",
    "\n",
    "#Reshaping the array\n",
    "input_data_reshaped=input_data_array.reshape(1,-1)\n",
    "\n",
    "prediction=regressor.predict(input_data_reshaped)\n",
    "print(prediction)\n",
    "\n",
    "print(\"The insurance cost is USD\",prediction[0])"
   ]
  },
  {
   "cell_type": "code",
   "execution_count": null,
   "id": "a4a96e59",
   "metadata": {
    "papermill": {
     "duration": 0.020073,
     "end_time": "2023-12-30T12:07:34.896834",
     "exception": false,
     "start_time": "2023-12-30T12:07:34.876761",
     "status": "completed"
    },
    "tags": []
   },
   "outputs": [],
   "source": []
  }
 ],
 "metadata": {
  "kaggle": {
   "accelerator": "none",
   "dataSources": [
    {
     "datasetId": 13720,
     "sourceId": 18513,
     "sourceType": "datasetVersion"
    }
   ],
   "dockerImageVersionId": 30626,
   "isGpuEnabled": false,
   "isInternetEnabled": true,
   "language": "python",
   "sourceType": "notebook"
  },
  "kernelspec": {
   "display_name": "Python 3",
   "language": "python",
   "name": "python3"
  },
  "language_info": {
   "codemirror_mode": {
    "name": "ipython",
    "version": 3
   },
   "file_extension": ".py",
   "mimetype": "text/x-python",
   "name": "python",
   "nbconvert_exporter": "python",
   "pygments_lexer": "ipython3",
   "version": "3.10.12"
  },
  "papermill": {
   "default_parameters": {},
   "duration": 12.156457,
   "end_time": "2023-12-30T12:07:35.640170",
   "environment_variables": {},
   "exception": null,
   "input_path": "__notebook__.ipynb",
   "output_path": "__notebook__.ipynb",
   "parameters": {},
   "start_time": "2023-12-30T12:07:23.483713",
   "version": "2.4.0"
  }
 },
 "nbformat": 4,
 "nbformat_minor": 5
}
